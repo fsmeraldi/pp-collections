{
 "cells": [
  {
   "cell_type": "markdown",
   "metadata": {
    "id": "Y9V98nGQyhVw"
   },
   "source": [
    "# Collections\n",
    "\n",
    "In the previous notebook we had a look at variables. Often, however, we need a convenient way to represent a collection of data (think a series of proteins, all codons that code for an aminoacid, etc). Python offers several very handy built-in types to deal with this. In the following we will learn about *lists*, *tuples* and *dictionaries*."
   ]
  },
  {
   "cell_type": "code",
   "execution_count": null,
   "metadata": {},
   "outputs": [],
   "source": [
    "# run this cell before you proceed, to enable video playback in the notebook\n",
    "import sys\n",
    "if \"pyodide\" in sys.modules:\n",
    "    import micropip\n",
    "    await micropip.install(\"ipywidgets\")"
   ]
  },
  {
   "cell_type": "markdown",
   "metadata": {
    "id": "3UP5-eKmyhVz"
   },
   "source": [
    "# Lists"
   ]
  },
  {
   "cell_type": "markdown",
   "metadata": {
    "id": "ZxUv_iDZyhV0"
   },
   "source": [
    "Lists are the workhorse data type in Python, so it's important to understand them well. A list is essentially an ordered collection of items:"
   ]
  },
  {
   "cell_type": "code",
   "execution_count": null,
   "metadata": {
    "id": "Tvie8EZvyhV1"
   },
   "outputs": [],
   "source": [
    "firstlist=[1,2,3,4,5]\n",
    "print(firstlist)"
   ]
  },
  {
   "cell_type": "markdown",
   "metadata": {
    "id": "m0g_Lmj7yhV3"
   },
   "source": [
    "Since each value in Python \"knows\" its type, there's no danger in putting together different types of values (however, in general this is better avoided):"
   ]
  },
  {
   "cell_type": "code",
   "execution_count": null,
   "metadata": {
    "id": "8I8DwbXtyhV3"
   },
   "outputs": [],
   "source": [
    "another=[\"Me\",\"You\",\"Them\"]\n",
    "mixandmatch=[\"One\",2,\"Three\",4.0]\n",
    "emptylist=[]\n",
    "print(another, mixandmatch, emptylist)"
   ]
  },
  {
   "cell_type": "code",
   "execution_count": null,
   "metadata": {
    "colab": {
     "base_uri": "https://localhost:8080/",
     "height": 336,
     "referenced_widgets": [
      "2dbac819cb734c4394528eb3946769d2",
      "3f8fd2fd7fa84c46a7366c2bd070e1b6",
      "797679b302db4b62bc57dadb4732f2d7",
      "bb78bced2784454aba4e76bc795b6968",
      "0c968a8267e942dfa8b5d44bc67ac2ae",
      "b511f5905beb441182f32007c9928f40",
      "41ae1e35720f4351b028a0254f719093"
     ]
    },
    "executionInfo": {
     "elapsed": 610,
     "status": "ok",
     "timestamp": 1695144950233,
     "user": {
      "displayName": "Patchy Python",
      "userId": "03971971519308571913"
     },
     "user_tz": -60
    },
    "id": "yNQnDkNuyhV4",
    "outputId": "a7e80560-b0c1-46ec-e9ff-89ffcb9d9937"
   },
   "outputs": [],
   "source": [
    "# run this cell to show a video, use slider to resize it, type Esc-o to hide it\n",
    "from IPython.display import YouTubeVideo; from ipywidgets import interactive, IntSlider\n",
    "def _play(resize): display(YouTubeVideo('IJXz53jT4iY',width=resize, height=520*resize//1100, rel=0, loop=1))\n",
    "interactive(_play, resize=IntSlider(min=300, max=1100, step=50, value=600, continuous_update=False, readout=False))"
   ]
  },
  {
   "cell_type": "markdown",
   "metadata": {
    "id": "UuFPF40ryhV6"
   },
   "source": [
    "**NOTE ON EXAMPLES:** Toy examples on strings and lists get boring quickly. For this reason, I am sourcing some of the examples from Bioinformatics, aka the Empire of Strings. These examples reflect meaningful real-world processing and data, however basic. You don't actually need to know any Biology, and if the terminology bothers you, replace any words you don't like with *foo*, *bar*, *spam* and *ham* - for our purposes, they are just strings."
   ]
  },
  {
   "cell_type": "markdown",
   "metadata": {
    "id": "yVPd_CHryhV7"
   },
   "source": [
    "### Indexing"
   ]
  },
  {
   "cell_type": "markdown",
   "metadata": {
    "id": "bWicnofRyhV8"
   },
   "source": [
    "You can access individual elements of the list by *indexing*. This is done with the ```[]``` operator:"
   ]
  },
  {
   "cell_type": "code",
   "execution_count": null,
   "metadata": {
    "id": "TBboybBTyhV9"
   },
   "outputs": [],
   "source": [
    "# the Alanine molecule has 4 possible representations in the genome - all of them 3 letter strings\n",
    "ala=['GCU', 'GCC', 'GCA', 'GCG'] # codons for Alanine\n",
    "print(\"Length \", len(ala))\n",
    "print(ala[0]) # the first element\n",
    "print(ala[3]) # the last element"
   ]
  },
  {
   "cell_type": "markdown",
   "metadata": {
    "id": "t88yLrAdyhV9"
   },
   "source": [
    "Incidentally, the [] operator also works for strings:"
   ]
  },
  {
   "cell_type": "code",
   "execution_count": null,
   "metadata": {
    "id": "mm3pfDi8yhV-"
   },
   "outputs": [],
   "source": [
    "'GCU'[1]"
   ]
  },
  {
   "cell_type": "markdown",
   "metadata": {
    "id": "bSfcBMqwyhV-"
   },
   "source": [
    "so that this is valid code:"
   ]
  },
  {
   "cell_type": "code",
   "execution_count": null,
   "metadata": {
    "id": "RIQi58LYyhV-"
   },
   "outputs": [],
   "source": [
    "ala=['GCU', 'GCC', 'GCA', 'GCG']\n",
    "print(ala[0][2]) # third character of the first element of the list"
   ]
  },
  {
   "cell_type": "markdown",
   "metadata": {
    "id": "_x98XTolyhV_"
   },
   "source": [
    "A few other handy tricks:"
   ]
  },
  {
   "cell_type": "code",
   "execution_count": null,
   "metadata": {
    "id": "mP83j5oDyhV_"
   },
   "outputs": [],
   "source": [
    "mylist=['a','b','c','d']\n",
    "print(mylist[-1])  # last element\n",
    "print(mylist[-2])  # second last\n",
    "print(mylist[1:3]) # from element 1 included to 3 excluded. This is called \"slicing\""
   ]
  },
  {
   "cell_type": "markdown",
   "metadata": {
    "id": "QBKIKDbIyhWA"
   },
   "source": [
    "You can, of course, use indexing to modify lists:"
   ]
  },
  {
   "cell_type": "code",
   "execution_count": null,
   "metadata": {
    "id": "brdjYChGyhWA"
   },
   "outputs": [],
   "source": [
    "mylist=['a','b','c','d','e','f']\n",
    "mylist[-1]='z'\n",
    "mylist[0]=mylist[1]\n",
    "mylist[2:4]=['Wah','Wah']\n",
    "\n",
    "print(mylist)"
   ]
  },
  {
   "cell_type": "code",
   "execution_count": null,
   "metadata": {
    "colab": {
     "base_uri": "https://localhost:8080/",
     "height": 298,
     "referenced_widgets": [
      "939189bc14264d8d89df19f92bf41967",
      "e9b003add7774fb4918d93eba9d3e1a3",
      "4f989d7682604ec98c9468bf7c142d73",
      "9b541fadfdb74a5c89b6a9b9256779b2",
      "0bc708f3a4cf4559aa755035751a9464",
      "1fa2d7121a604c259d14964e3eb61147",
      "e049a15a20dd4b99be31f16d47f126f3"
     ]
    },
    "executionInfo": {
     "elapsed": 389,
     "status": "ok",
     "timestamp": 1695145073003,
     "user": {
      "displayName": "Patchy Python",
      "userId": "03971971519308571913"
     },
     "user_tz": -60
    },
    "id": "oPtqbQuNyhWB",
    "outputId": "db420d74-94b2-4bad-dcb9-c7ff2d2091a9"
   },
   "outputs": [],
   "source": [
    "# run this cell to show a video, use slider to resize it, type Esc-o to hide it\n",
    "from IPython.display import YouTubeVideo; from ipywidgets import interactive, IntSlider\n",
    "def _play(resize): display(YouTubeVideo('1Y9r-8wBbxM',width=resize, height=450*resize//1100, rel=0, loop=1))\n",
    "interactive(_play, resize=IntSlider(min=300, max=1100, step=50, value=600, continuous_update=False, readout=False))"
   ]
  },
  {
   "cell_type": "markdown",
   "metadata": {
    "id": "EbpRVxm7yhWB"
   },
   "source": [
    "For more examples of indexing and slicing (including skipping elements), see this [tutorial](https://railsware.com/blog/python-for-machine-learning-indexing-and-slicing-for-lists-tuples-strings-and-other-sequential-types/) online."
   ]
  },
  {
   "cell_type": "markdown",
   "metadata": {
    "id": "jWJUcMboyhWB"
   },
   "source": [
    "### Operations on lists"
   ]
  },
  {
   "cell_type": "markdown",
   "metadata": {
    "id": "oFAldDM5yhWB"
   },
   "source": [
    "The ```dir``` command gives you a handy way to list operations defined for a type (really methods defined for an object). Disregard the entries beginning and ending with ```__``` that have to do with the internal representation of the object. Let's try this on a list:"
   ]
  },
  {
   "cell_type": "code",
   "execution_count": null,
   "metadata": {
    "id": "uqLBwS3ByhWC"
   },
   "outputs": [],
   "source": [
    "dir([])"
   ]
  },
  {
   "cell_type": "markdown",
   "metadata": {
    "id": "HMAllE9vyhWC"
   },
   "source": [
    "```append``` and ```pop``` attach or remove an element from the \"tail\" of the list. They can be used to implement a LIFO (last in first out) queue, also known as a stack."
   ]
  },
  {
   "cell_type": "code",
   "execution_count": null,
   "metadata": {
    "id": "oS6ylyN6yhWD"
   },
   "outputs": [],
   "source": [
    "queue=['Last', 'In', 'First']\n",
    "queue.append('Out')\n",
    "print(queue)\n",
    "print(queue.pop())\n",
    "print(queue)"
   ]
  },
  {
   "cell_type": "markdown",
   "metadata": {
    "id": "WiSEIxPIyhWD"
   },
   "source": [
    "To concatenate two lists, use ```extend```"
   ]
  },
  {
   "cell_type": "code",
   "execution_count": null,
   "metadata": {
    "id": "1L8XYdR4yhWD"
   },
   "outputs": [],
   "source": [
    "queue.extend(['Second', 'Third'])\n",
    "print(queue)"
   ]
  },
  {
   "cell_type": "code",
   "execution_count": null,
   "metadata": {
    "id": "m0ni2ENayhWD"
   },
   "outputs": [],
   "source": [
    "queue.remove('In') # just guess\n",
    "print(queue)"
   ]
  },
  {
   "cell_type": "code",
   "execution_count": null,
   "metadata": {
    "id": "P0jpUKeSyhWD"
   },
   "outputs": [],
   "source": [
    "queue.reverse()\n",
    "print(queue)"
   ]
  },
  {
   "cell_type": "code",
   "execution_count": null,
   "metadata": {
    "id": "jYevCHPMyhWE"
   },
   "outputs": [],
   "source": [
    "queue.sort()\n",
    "print(queue)"
   ]
  },
  {
   "cell_type": "code",
   "execution_count": null,
   "metadata": {
    "id": "zc7iyiJyyhWE"
   },
   "outputs": [],
   "source": [
    "queue.clear() # remove all items\n",
    "print(queue)"
   ]
  },
  {
   "cell_type": "markdown",
   "metadata": {
    "id": "QltIvOg8yhWF"
   },
   "source": [
    "Note that strings are sorted in alphabetical order. More details on sorting available [here](https://wiki.python.org/moin/HowTo/Sorting)"
   ]
  },
  {
   "cell_type": "code",
   "execution_count": null,
   "metadata": {
    "colab": {
     "base_uri": "https://localhost:8080/",
     "height": 282,
     "referenced_widgets": [
      "57dc233874834aeda77be9593452c07b",
      "9ba66218afe148d9b7592142c74561da",
      "7c001e5f9af04d9b85b764203a6e516d",
      "72b7eac8debd4540bc42522ca0567061",
      "79b24f3587da4fe686dafc71b1c447d3",
      "74b1298fa80447d98040c4a3d9c1d77b",
      "a19a3f59dbdd497b9a9c9ebb325151b6"
     ]
    },
    "executionInfo": {
     "elapsed": 405,
     "status": "ok",
     "timestamp": 1695145480870,
     "user": {
      "displayName": "Patchy Python",
      "userId": "03971971519308571913"
     },
     "user_tz": -60
    },
    "id": "e3O5epc6yhWF",
    "outputId": "b746b394-276b-4f10-af5f-41192341851b"
   },
   "outputs": [],
   "source": [
    "# run this cell to show a video, use slider to resize it, type Esc-o to hide it\n",
    "from IPython.display import YouTubeVideo; from ipywidgets import interactive, IntSlider\n",
    "def _play(resize): display(YouTubeVideo('BShjj8SBHrc',width=resize, height=420*resize//1100, rel=0, loop=1))\n",
    "interactive(_play, resize=IntSlider(min=300, max=1100, step=50, value=600, continuous_update=False, readout=False))"
   ]
  },
  {
   "cell_type": "markdown",
   "metadata": {
    "id": "i_MwAqxXyhWF"
   },
   "source": [
    "### Lists comprehensions"
   ]
  },
  {
   "cell_type": "markdown",
   "metadata": {
    "id": "jFUuyAqRyhWF"
   },
   "source": [
    "There is a handy way of defining lists in Python starting from other lists. This is similar to what is done with sets in mathematics. Consider the following set: $A=\\{1,2,3,4,5\\}$. You can define $B=\\{3x | x\\in A\\}$ (read 3 times x for x in A), which explicitly means  $B=\\{3,6,9,12,15\\}$. The same is possible with Python lists:"
   ]
  },
  {
   "cell_type": "code",
   "execution_count": null,
   "metadata": {
    "id": "pnBxx6VByhWG"
   },
   "outputs": [],
   "source": [
    "A=range(1,6)\n",
    "print(list(A))\n",
    "B=[3*x for x in A]\n",
    "print(B)"
   ]
  },
  {
   "cell_type": "markdown",
   "metadata": {
    "id": "e0Oqnv9fyhWG"
   },
   "source": [
    "We can also use conditionals in comprehensions to pick elements that satisfy a particular property (we will cover conditionals in detail later on):"
   ]
  },
  {
   "cell_type": "code",
   "execution_count": null,
   "metadata": {
    "id": "LwHQVtpPyhWH"
   },
   "outputs": [],
   "source": [
    "even=[x for x in A if x%2==0]\n",
    "odd=[x for x in A if x not in even] #  \"not in\" is a Python operator in its own right\n",
    "# also: odd=[x for x in A if not (x in even)]\n",
    "print(even)\n",
    "print(odd)"
   ]
  },
  {
   "cell_type": "markdown",
   "metadata": {
    "id": "0exI4h8vyhWH"
   },
   "source": [
    "This can be used to operate on all elements of a list:"
   ]
  },
  {
   "cell_type": "code",
   "execution_count": null,
   "metadata": {
    "id": "YSiKs3c_yhWH"
   },
   "outputs": [],
   "source": [
    "# the Leucine molecule has 6 possible representations in RNA - and the same in DNA, if we exchange the Us with Ts\n",
    "leu=['UUA','UUG','CUU','CUC','CUA','CUG']\n",
    "leu_DNA=[x.replace('U','T') for x in leu]\n",
    "print(leu_DNA)"
   ]
  },
  {
   "cell_type": "code",
   "execution_count": null,
   "metadata": {
    "colab": {
     "base_uri": "https://localhost:8080/",
     "height": 331,
     "referenced_widgets": [
      "598db944a18e4465bc29809ed664cf8b",
      "3a3573ce5f7447e08ed39fd3d5f3bd42",
      "bc7c77663d3f4d27a2a3807bb1e454a2",
      "7d907791ee42463f9e4632ef37095d55",
      "a9c8ac6d32a04783a936fcd9793a563d",
      "94e544a3f65b499bbe1c4052edbaa234",
      "1be4f814cd9a469f81b07a78de9030da"
     ]
    },
    "executionInfo": {
     "elapsed": 13,
     "status": "ok",
     "timestamp": 1695403600051,
     "user": {
      "displayName": "Patchy Python",
      "userId": "03971971519308571913"
     },
     "user_tz": -60
    },
    "id": "_DgPBBPSyhWI",
    "outputId": "d7b0f6a0-8429-4d99-eb4c-ea890627ab77"
   },
   "outputs": [],
   "source": [
    "# run this cell to show a video, use slider to resize it, type Esc-o to hide it\n",
    "from IPython.display import YouTubeVideo; from ipywidgets import interactive, IntSlider\n",
    "def _play(resize): display(YouTubeVideo('8cDSOL7-Nrw',width=resize, height=510*resize//1100, rel=0, loop=1))\n",
    "interactive(_play, resize=IntSlider(min=300, max=1100, step=50, value=600, continuous_update=False, readout=False))"
   ]
  },
  {
   "cell_type": "markdown",
   "metadata": {
    "id": "ha0tT6aSyhWI"
   },
   "source": [
    "### A common pitfall"
   ]
  },
  {
   "cell_type": "markdown",
   "metadata": {
    "id": "U2FIeeo2yhWI"
   },
   "source": [
    "Be warned that the name of a list is just a reference to a memory area where the list elements are stored. Thus a copy of a list creates another way of accessing the same list containing the exact same objects, not different list or different objects. This makes the copy operation very efficient, but it can lead to some surprises:"
   ]
  },
  {
   "cell_type": "code",
   "execution_count": null,
   "metadata": {
    "id": "3rd9FEvtyhWJ"
   },
   "outputs": [],
   "source": [
    "a=['We', 'Are', 'All', 'Unique']\n",
    "b=a\n",
    "print(b)\n",
    "b.insert(2,'Not')\n",
    "print(b)\n",
    "print(a) # Ops! a has been modified too"
   ]
  },
  {
   "cell_type": "markdown",
   "metadata": {
    "id": "c9d6RYLsyhWJ"
   },
   "source": [
    "If you do want to copy all elements one by one, you can use indexing to enumerate all the elements of list *a* and assign the resulting ~~sub~~list to list *b*:"
   ]
  },
  {
   "cell_type": "code",
   "execution_count": null,
   "metadata": {
    "id": "qi739vEqyhWJ"
   },
   "outputs": [],
   "source": [
    "a=['This', 'Is', 'All']\n",
    "b=a[:] # this makes all the difference\n",
    "b[1]=\"Isn't\" # have to use double quotes since string contains a single quote\n",
    "print (a)\n",
    "print (b)"
   ]
  },
  {
   "cell_type": "code",
   "execution_count": null,
   "metadata": {
    "colab": {
     "base_uri": "https://localhost:8080/",
     "height": 320,
     "referenced_widgets": [
      "2916047c0e78438eb085943b004d5ef2",
      "d38adf3add2b4db0b91e4d700b3f7726",
      "94005475197b4b8c9f779e92335094fb",
      "c6131811960044158bba41aa8d54d678",
      "8f25580a755d44d9b2a0b99a8bfe0457",
      "c9e3fbb2315e4747aa9bb1c925c74884",
      "aec68e599de84a1c89ab304e8255d421"
     ]
    },
    "executionInfo": {
     "elapsed": 501,
     "status": "ok",
     "timestamp": 1695151681658,
     "user": {
      "displayName": "Patchy Python",
      "userId": "03971971519308571913"
     },
     "user_tz": -60
    },
    "id": "a4CjRzl8yhWJ",
    "outputId": "6c8e5a4c-de30-4210-d2f9-7053ad4b7a78"
   },
   "outputs": [],
   "source": [
    "# run this cell to show a video, use slider to resize it, type Esc-o to hide it\n",
    "from IPython.display import YouTubeVideo; from ipywidgets import interactive, IntSlider\n",
    "def _play(resize): display(YouTubeVideo('5IH1Bw0ohqE',width=resize, height=490*resize//1100, rel=0, loop=1))\n",
    "interactive(_play, resize=IntSlider(min=300, max=1100, step=50, value=600, continuous_update=False, readout=False))"
   ]
  },
  {
   "cell_type": "markdown",
   "metadata": {
    "id": "bSY0tKiSyhWK"
   },
   "source": [
    "# Tuples"
   ]
  },
  {
   "cell_type": "markdown",
   "metadata": {
    "id": "gabVTZmGyhWK"
   },
   "source": [
    "Tuples are immutable lists. They are more efficient than lists and can be used as keys for dictionaries (see below); with the obvious modificatios, they can be used like lists."
   ]
  },
  {
   "cell_type": "code",
   "execution_count": null,
   "metadata": {
    "id": "4a0Y8lolyhWL"
   },
   "outputs": [],
   "source": [
    "# DNA chains are made up of 4 molecular \"links\" known as A, T, C, G\n",
    "nucleotides=('A','T','C','G') # we are unlikely to change this\n",
    "print (nucleotides[2])\n",
    "print (nucleotides.index('G'))\n",
    "nucleotides[0]='Spam' # hmmm..."
   ]
  },
  {
   "cell_type": "markdown",
   "metadata": {
    "id": "ha7_nPCCyhWL"
   },
   "source": [
    "Notice that methods to change the elements are missing"
   ]
  },
  {
   "cell_type": "code",
   "execution_count": null,
   "metadata": {
    "id": "lmvPkKz6yhWL"
   },
   "outputs": [],
   "source": [
    "dir(()) # () obviously is... the empty tuple!"
   ]
  },
  {
   "cell_type": "markdown",
   "metadata": {
    "id": "aLcl_2w7yhWL"
   },
   "source": [
    "This is slightly tricky:"
   ]
  },
  {
   "cell_type": "code",
   "execution_count": null,
   "metadata": {
    "id": "d-WtqZKayhWM"
   },
   "outputs": [],
   "source": [
    "a=(1,2,3)\n",
    "b=a # b is the same tuple as a (same as with lists)\n",
    "a=a+(4,5) # creates a new tuple, does not change a\n",
    "print(a) # a is an entirely new tuple!\n",
    "print(b) # b is still the same"
   ]
  },
  {
   "cell_type": "markdown",
   "metadata": {
    "id": "eaZvTU_iyhWM"
   },
   "source": [
    "In this example we are not changing the tuple, we are actually creating the new tuple (1,2,3,4,5) and assigning it to *a* instead than the old one"
   ]
  },
  {
   "cell_type": "code",
   "execution_count": null,
   "metadata": {
    "colab": {
     "base_uri": "https://localhost:8080/",
     "height": 320,
     "referenced_widgets": [
      "fac685e47d8d4de9a818d1a8bd780ec5",
      "692f127657774cc28c936fefaec44bf2",
      "59b33a4eced747f58f60fd722a528c9c",
      "b319fd5a2508459cb4e03700ee4d456d",
      "57287744d622432ba63392792ba4a06f",
      "521ea1bb91e948dd9d1c437af68c53a1",
      "e3c5913342834e1ea6b7983a52f084c3"
     ]
    },
    "executionInfo": {
     "elapsed": 436,
     "status": "ok",
     "timestamp": 1695151936649,
     "user": {
      "displayName": "Patchy Python",
      "userId": "03971971519308571913"
     },
     "user_tz": -60
    },
    "id": "8Jk9fAkRyhWM",
    "outputId": "4238f74a-7b02-42cc-c343-c41c3b5613e7"
   },
   "outputs": [],
   "source": [
    "# run this cell to show a video, use slider to resize it, type Esc-o to hide it\n",
    "from IPython.display import YouTubeVideo; from ipywidgets import interactive, IntSlider\n",
    "def _play(resize): display(YouTubeVideo('DoflPsdLWD8',width=resize, height=490*resize//1100, rel=0, loop=1))\n",
    "interactive(_play, resize=IntSlider(min=300, max=1100, step=50, value=600, continuous_update=False, readout=False))"
   ]
  },
  {
   "cell_type": "markdown",
   "metadata": {
    "id": "y7VXmVm1yhWM"
   },
   "source": [
    "# Dictionaries"
   ]
  },
  {
   "cell_type": "markdown",
   "metadata": {
    "id": "pL1HxaFfyhWN"
   },
   "source": [
    "You can think of lists and tuples as a series of variables indexed by an integer. Dictionaries are series of variables indexed by an arbitrary object, typically (but by all means not always) a string:"
   ]
  },
  {
   "cell_type": "code",
   "execution_count": null,
   "metadata": {
    "id": "Bx1C7NkKyhWN"
   },
   "outputs": [],
   "source": [
    "# Aminoacids, the building block of proteins, are represented by three-letter symbols.\n",
    "# this dictionary implements an (incomplete) look-up table for the full name\n",
    "aminoas={'Ala':'Alanine', 'Cys': 'Cysteine', 'Pro': 'Proline', 'Leu': 'Leucine'}\n",
    "print(aminoas['Leu'])\n",
    "aminoas['His']='Histidine'\n",
    "print(aminoas)"
   ]
  },
  {
   "cell_type": "markdown",
   "metadata": {
    "id": "ttU8uCa5yhWN"
   },
   "source": [
    "You can add items one by one to an empty dictionary {}:"
   ]
  },
  {
   "cell_type": "code",
   "execution_count": null,
   "metadata": {
    "id": "0gb6uqrVyhWN"
   },
   "outputs": [],
   "source": [
    "emptydic={}\n",
    "print(len(emptydic))\n",
    "emptydic['Foo']='Bar'\n",
    "print(len(emptydic))"
   ]
  },
  {
   "cell_type": "code",
   "execution_count": null,
   "metadata": {
    "colab": {
     "base_uri": "https://localhost:8080/",
     "height": 284,
     "referenced_widgets": [
      "349e2286e0a14222ae9cf4bd8735f6e8",
      "8d0d17c7ba8540a9ae3215839ef31c1d",
      "285a33db03924155ab8acc6df176d731",
      "c6179150f2fe406786ab41fdbb5249c2",
      "a563d1946a5941f090b63d3d9041af7c",
      "ad715e30bc9a45a297ff9606885b3004",
      "9e7e94f0b94d4ffd9679f9f1271ce57e"
     ]
    },
    "executionInfo": {
     "elapsed": 451,
     "status": "ok",
     "timestamp": 1695151931496,
     "user": {
      "displayName": "Patchy Python",
      "userId": "03971971519308571913"
     },
     "user_tz": -60
    },
    "id": "zLTXQzA4yhWO",
    "outputId": "8080e970-ce71-45b6-84f4-10e930d05e9a"
   },
   "outputs": [],
   "source": [
    "# run this cell to show a video, use slider to resize it, type Esc-o to hide it\n",
    "from IPython.display import YouTubeVideo; from ipywidgets import interactive, IntSlider\n",
    "def _play(resize): display(YouTubeVideo('218ne2ab3JA',width=resize, height=425*resize//1100, rel=0, loop=1))\n",
    "interactive(_play, resize=IntSlider(min=300, max=1100, step=50, value=600, continuous_update=False, readout=False))"
   ]
  },
  {
   "cell_type": "markdown",
   "metadata": {
    "id": "I0-AjgVLyhWO"
   },
   "source": [
    "**UPDATE:** The language keeps evolving, and as of Python 3.6 a new implementation of ```dict``` was introduced that is more efficient, and also stores the keys in *insertion order*. Since version 3.7, this has become part of the standard, so printing a dictionary or extracting its keys (see below) will return the keys in the order they were inserted."
   ]
  },
  {
   "cell_type": "markdown",
   "metadata": {
    "id": "w-53nVeKyhWO"
   },
   "source": [
    "### Keys and values"
   ]
  },
  {
   "cell_type": "markdown",
   "metadata": {
    "id": "ult7qrhEyhWO"
   },
   "source": [
    "You can display the keys and values contained in a dictionary using the corresponding methods:"
   ]
  },
  {
   "cell_type": "code",
   "execution_count": null,
   "metadata": {
    "id": "SDyCTwBQyhWO"
   },
   "outputs": [],
   "source": [
    "print(aminoas.keys())\n",
    "print(aminoas.values())"
   ]
  },
  {
   "cell_type": "markdown",
   "metadata": {
    "id": "kKXwC75gyhWP"
   },
   "source": [
    "Or you can have them all together:"
   ]
  },
  {
   "cell_type": "code",
   "execution_count": null,
   "metadata": {
    "id": "THu83p27yhWP"
   },
   "outputs": [],
   "source": [
    "aminoas.items()"
   ]
  },
  {
   "cell_type": "markdown",
   "metadata": {
    "id": "ySTt2EgfyhWP"
   },
   "source": [
    "Trying to look up an unexisting key can led to an error:"
   ]
  },
  {
   "cell_type": "code",
   "execution_count": null,
   "metadata": {
    "id": "TReBP4UayhWP"
   },
   "outputs": [],
   "source": [
    "aminoas['Ser']"
   ]
  },
  {
   "cell_type": "markdown",
   "metadata": {
    "id": "pTxSzgNHyhWQ"
   },
   "source": [
    "So it may be better to check (this is a conditional expression, more on this later):"
   ]
  },
  {
   "cell_type": "code",
   "execution_count": null,
   "metadata": {
    "id": "ZEtq78tFyhWQ"
   },
   "outputs": [],
   "source": [
    "'Ala' in aminoas"
   ]
  },
  {
   "cell_type": "markdown",
   "metadata": {
    "id": "q3U9XeQZyhWQ"
   },
   "source": [
    "Or you can play it safe:"
   ]
  },
  {
   "cell_type": "code",
   "execution_count": null,
   "metadata": {
    "id": "79Z3-U9uyhWR"
   },
   "outputs": [],
   "source": [
    "print(aminoas.get('Ala','Oops...'))\n",
    "print(aminoas.get('Ser','Oops...'))"
   ]
  },
  {
   "cell_type": "markdown",
   "metadata": {
    "id": "8sQ3ckGyyhWR"
   },
   "source": [
    "You can use ```del``` to delete items (or you can ```pop``` the dictionary, which returns the deleted item):"
   ]
  },
  {
   "cell_type": "code",
   "execution_count": null,
   "metadata": {
    "id": "3BpyXUmwyhWR"
   },
   "outputs": [],
   "source": [
    "del aminoas['Ala']\n",
    "print(aminoas.pop('Pro'))\n",
    "aminoas"
   ]
  },
  {
   "cell_type": "markdown",
   "metadata": {
    "id": "JC2aJgDPyhWR"
   },
   "source": [
    "We can ```update``` a dictionary with values from another:"
   ]
  },
  {
   "cell_type": "code",
   "execution_count": null,
   "metadata": {
    "id": "TcyXrAANyhWR"
   },
   "outputs": [],
   "source": [
    "more=dict(Ala='Alanine',Pro='Proline') # another way to construct a dictionary\n",
    "print(more)\n",
    "aminoas.update(more)\n",
    "print(aminoas)"
   ]
  },
  {
   "cell_type": "code",
   "execution_count": null,
   "metadata": {
    "colab": {
     "base_uri": "https://localhost:8080/",
     "height": 284,
     "referenced_widgets": [
      "b9878e0055ec485abda381f3763275fc",
      "f0f72b85621641558fbef0c87e8d6baf",
      "104b4df42e734b389fdbb62619b87a05",
      "9a184b1b5fe0407d937c2744c558edd8",
      "41080c5a84c54ce29b4a113ee698cb30",
      "ae66fa430df84743bbd3540be212fa18",
      "022c47e02ed14803aba2dd246676a6a9"
     ]
    },
    "executionInfo": {
     "elapsed": 435,
     "status": "ok",
     "timestamp": 1695152076781,
     "user": {
      "displayName": "Patchy Python",
      "userId": "03971971519308571913"
     },
     "user_tz": -60
    },
    "id": "-MXN4VXHyhWS",
    "outputId": "057cf612-7ecb-4861-83ab-c926b7951a5c"
   },
   "outputs": [],
   "source": [
    "# run this cell to show a video, use slider to resize it, type Esc-o to hide it\n",
    "from IPython.display import YouTubeVideo; from ipywidgets import interactive, IntSlider\n",
    "def _play(resize): display(YouTubeVideo('WMUkwDgZa24',width=resize, height=425*resize//1100, rel=0, loop=1))\n",
    "interactive(_play, resize=IntSlider(min=300, max=1100, step=50, value=600, continuous_update=False, readout=False))"
   ]
  },
  {
   "cell_type": "markdown",
   "metadata": {
    "id": "6Za_jaGVyhWS"
   },
   "source": [
    "And finally, let's turn this around - let's try to use the names as keys, and the three-letter codes as values:"
   ]
  },
  {
   "cell_type": "code",
   "execution_count": null,
   "metadata": {
    "id": "0s2BGBDqyhWS"
   },
   "outputs": [],
   "source": [
    "k=aminoas.keys()\n",
    "v=aminoas.values()\n",
    "# zip is a useful function - it pairs up the elements of two lists\n",
    "l=list(zip(v,k))\n",
    "print(v)\n",
    "print(k)\n",
    "print(l) # the output of zip\n",
    "symbol=dict(l)\n",
    "print(symbol)\n",
    "print(symbol['Cysteine'])"
   ]
  },
  {
   "cell_type": "markdown",
   "metadata": {
    "id": "PVv9Yz-myhWS"
   },
   "source": [
    "Note that turning a dictionary on its head in this way is not normally possible, as two or more keys may have the same value (meaning you cannot in general use the values as keys) - nor is it necessarily useful, but it's a good exercise nevertheless!"
   ]
  },
  {
   "cell_type": "code",
   "execution_count": null,
   "metadata": {
    "colab": {
     "base_uri": "https://localhost:8080/",
     "height": 284,
     "referenced_widgets": [
      "98ddab800a174c14828f27fcfc7c5876",
      "eb7d2c9fdc4f4953afb63e60e50b2263",
      "fd403965538b48249c1172573c36aa5e",
      "b649953818144bd2b7d2e11e3afb0524",
      "5f4d68726bae4671a783b2ccbb5bba6f",
      "12334e353cda404fb8f4eff3e5de2b17",
      "fae7edda8f79477da1a5cd80668ab47e"
     ]
    },
    "executionInfo": {
     "elapsed": 380,
     "status": "ok",
     "timestamp": 1695403726717,
     "user": {
      "displayName": "Patchy Python",
      "userId": "03971971519308571913"
     },
     "user_tz": -60
    },
    "id": "ei_I-BfDyhWT",
    "outputId": "ea8844eb-8d7f-4785-fcde-9e9b2bf9c85e"
   },
   "outputs": [],
   "source": [
    "# run this cell to show a video, use slider to resize it, type Esc-o to hide it\n",
    "from IPython.display import YouTubeVideo; from ipywidgets import interactive, IntSlider\n",
    "def _play(resize): display(YouTubeVideo('uC7-soGdAR0',width=resize, height=425*resize//1100, rel=0, loop=1))\n",
    "interactive(_play, resize=IntSlider(min=300, max=1100, step=50, value=600, continuous_update=False, readout=False))"
   ]
  },
  {
   "cell_type": "markdown",
   "metadata": {
    "id": "UVsC7NrQyhWT"
   },
   "source": [
    "### Dict comprehensions\n",
    "\n",
    "Removing printouts and intermediate variables, the above solution isn't that verbose:"
   ]
  },
  {
   "cell_type": "code",
   "execution_count": null,
   "metadata": {
    "id": "BDPV6JEwyhWT"
   },
   "outputs": [],
   "source": [
    "symbol=dict(zip(aminoas.values(), aminoas.keys()))\n",
    "print (symbol)"
   ]
  },
  {
   "cell_type": "markdown",
   "metadata": {
    "id": "gdKigrxgyhWT"
   },
   "source": [
    "however, there is a more elegant way of doing it, by using a **dictionary comprehension**. From the [documentation](https://www.python.org/dev/peps/pep-0274/), \"Dict comprehensions are just like list comprehensions, except that you group the expression using curly braces instead of square braces. Also, the left part before the ```for``` keyword expresses both a key and a value, separated by a colon. The notation is specifically designed to remind you of list comprehensions as applied to dictionaries.\" In our case, this what the required comprehension would look like:"
   ]
  },
  {
   "cell_type": "code",
   "execution_count": null,
   "metadata": {
    "id": "-7Rv5Fw2yhWT"
   },
   "outputs": [],
   "source": [
    "# note the { } instead of [ ] and the : sign\n",
    "symbol={ v:k for k,v in aminoas.items() }\n",
    "print(symbol)"
   ]
  },
  {
   "cell_type": "markdown",
   "metadata": {
    "id": "FQ5mq_bMyhWU"
   },
   "source": [
    "the analogy with list comprehensions is evident. You can find a collection of increasingly intricate examples [here](https://towardsdatascience.com/10-examples-to-master-python-dictionary-comprehensions-7aaa536f5960) - you may want to try running and editing them in order to make sense of them."
   ]
  },
  {
   "cell_type": "markdown",
   "metadata": {
    "id": "6CCT_dARyhWU"
   },
   "source": [
    "**(C) 2014,2025 Fabrizio Smeraldi** ([info@patchypython.com](mailto:info@patchypython.com)), all rights reserved."
   ]
  }
 ],
 "metadata": {
  "colab": {
   "provenance": [
    {
     "file_id": "1PSqlzQH4FGeDlnC29X7MoBshlIDvHGue",
     "timestamp": 1695313427044
    }
   ]
  },
  "kernelspec": {
   "display_name": "Python 3 (ipykernel)",
   "language": "python",
   "name": "python3"
  },
  "language_info": {
   "codemirror_mode": {
    "name": "ipython",
    "version": 3
   },
   "file_extension": ".py",
   "mimetype": "text/x-python",
   "name": "python",
   "nbconvert_exporter": "python",
   "pygments_lexer": "ipython3",
   "version": "3.12.3"
  },
  "widgets": {
   "application/vnd.jupyter.widget-state+json": {
    "022c47e02ed14803aba2dd246676a6a9": {
     "model_module": "@jupyter-widgets/base",
     "model_module_version": "1.2.0",
     "model_name": "LayoutModel",
     "state": {
      "_model_module": "@jupyter-widgets/base",
      "_model_module_version": "1.2.0",
      "_model_name": "LayoutModel",
      "_view_count": null,
      "_view_module": "@jupyter-widgets/base",
      "_view_module_version": "1.2.0",
      "_view_name": "LayoutView",
      "align_content": null,
      "align_items": null,
      "align_self": null,
      "border": null,
      "bottom": null,
      "display": null,
      "flex": null,
      "flex_flow": null,
      "grid_area": null,
      "grid_auto_columns": null,
      "grid_auto_flow": null,
      "grid_auto_rows": null,
      "grid_column": null,
      "grid_gap": null,
      "grid_row": null,
      "grid_template_areas": null,
      "grid_template_columns": null,
      "grid_template_rows": null,
      "height": null,
      "justify_content": null,
      "justify_items": null,
      "left": null,
      "margin": null,
      "max_height": null,
      "max_width": null,
      "min_height": null,
      "min_width": null,
      "object_fit": null,
      "object_position": null,
      "order": null,
      "overflow": null,
      "overflow_x": null,
      "overflow_y": null,
      "padding": null,
      "right": null,
      "top": null,
      "visibility": null,
      "width": null
     }
    },
    "0bc708f3a4cf4559aa755035751a9464": {
     "model_module": "@jupyter-widgets/base",
     "model_module_version": "1.2.0",
     "model_name": "LayoutModel",
     "state": {
      "_model_module": "@jupyter-widgets/base",
      "_model_module_version": "1.2.0",
      "_model_name": "LayoutModel",
      "_view_count": null,
      "_view_module": "@jupyter-widgets/base",
      "_view_module_version": "1.2.0",
      "_view_name": "LayoutView",
      "align_content": null,
      "align_items": null,
      "align_self": null,
      "border": null,
      "bottom": null,
      "display": null,
      "flex": null,
      "flex_flow": null,
      "grid_area": null,
      "grid_auto_columns": null,
      "grid_auto_flow": null,
      "grid_auto_rows": null,
      "grid_column": null,
      "grid_gap": null,
      "grid_row": null,
      "grid_template_areas": null,
      "grid_template_columns": null,
      "grid_template_rows": null,
      "height": null,
      "justify_content": null,
      "justify_items": null,
      "left": null,
      "margin": null,
      "max_height": null,
      "max_width": null,
      "min_height": null,
      "min_width": null,
      "object_fit": null,
      "object_position": null,
      "order": null,
      "overflow": null,
      "overflow_x": null,
      "overflow_y": null,
      "padding": null,
      "right": null,
      "top": null,
      "visibility": null,
      "width": null
     }
    },
    "0c968a8267e942dfa8b5d44bc67ac2ae": {
     "model_module": "@jupyter-widgets/base",
     "model_module_version": "1.2.0",
     "model_name": "LayoutModel",
     "state": {
      "_model_module": "@jupyter-widgets/base",
      "_model_module_version": "1.2.0",
      "_model_name": "LayoutModel",
      "_view_count": null,
      "_view_module": "@jupyter-widgets/base",
      "_view_module_version": "1.2.0",
      "_view_name": "LayoutView",
      "align_content": null,
      "align_items": null,
      "align_self": null,
      "border": null,
      "bottom": null,
      "display": null,
      "flex": null,
      "flex_flow": null,
      "grid_area": null,
      "grid_auto_columns": null,
      "grid_auto_flow": null,
      "grid_auto_rows": null,
      "grid_column": null,
      "grid_gap": null,
      "grid_row": null,
      "grid_template_areas": null,
      "grid_template_columns": null,
      "grid_template_rows": null,
      "height": null,
      "justify_content": null,
      "justify_items": null,
      "left": null,
      "margin": null,
      "max_height": null,
      "max_width": null,
      "min_height": null,
      "min_width": null,
      "object_fit": null,
      "object_position": null,
      "order": null,
      "overflow": null,
      "overflow_x": null,
      "overflow_y": null,
      "padding": null,
      "right": null,
      "top": null,
      "visibility": null,
      "width": null
     }
    },
    "104b4df42e734b389fdbb62619b87a05": {
     "model_module": "@jupyter-widgets/output",
     "model_module_version": "1.0.0",
     "model_name": "OutputModel",
     "state": {
      "_dom_classes": [],
      "_model_module": "@jupyter-widgets/output",
      "_model_module_version": "1.0.0",
      "_model_name": "OutputModel",
      "_view_count": null,
      "_view_module": "@jupyter-widgets/output",
      "_view_module_version": "1.0.0",
      "_view_name": "OutputView",
      "layout": "IPY_MODEL_022c47e02ed14803aba2dd246676a6a9",
      "msg_id": "",
      "outputs": [
       {
        "data": {
         "image/jpeg": "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\n",
         "text/html": "\n        <iframe\n            width=\"600\"\n            height=\"231\"\n            src=\"https://www.youtube.com/embed/WMUkwDgZa24?rel=0&loop=1\"\n            frameborder=\"0\"\n            allowfullscreen\n            \n        ></iframe>\n        ",
         "text/plain": "<IPython.lib.display.YouTubeVideo at 0x7b45a40cb7f0>"
        },
        "metadata": {},
        "output_type": "display_data"
       }
      ]
     }
    },
    "12334e353cda404fb8f4eff3e5de2b17": {
     "model_module": "@jupyter-widgets/controls",
     "model_module_version": "1.5.0",
     "model_name": "SliderStyleModel",
     "state": {
      "_model_module": "@jupyter-widgets/controls",
      "_model_module_version": "1.5.0",
      "_model_name": "SliderStyleModel",
      "_view_count": null,
      "_view_module": "@jupyter-widgets/base",
      "_view_module_version": "1.2.0",
      "_view_name": "StyleView",
      "description_width": "",
      "handle_color": null
     }
    },
    "1be4f814cd9a469f81b07a78de9030da": {
     "model_module": "@jupyter-widgets/base",
     "model_module_version": "1.2.0",
     "model_name": "LayoutModel",
     "state": {
      "_model_module": "@jupyter-widgets/base",
      "_model_module_version": "1.2.0",
      "_model_name": "LayoutModel",
      "_view_count": null,
      "_view_module": "@jupyter-widgets/base",
      "_view_module_version": "1.2.0",
      "_view_name": "LayoutView",
      "align_content": null,
      "align_items": null,
      "align_self": null,
      "border": null,
      "bottom": null,
      "display": null,
      "flex": null,
      "flex_flow": null,
      "grid_area": null,
      "grid_auto_columns": null,
      "grid_auto_flow": null,
      "grid_auto_rows": null,
      "grid_column": null,
      "grid_gap": null,
      "grid_row": null,
      "grid_template_areas": null,
      "grid_template_columns": null,
      "grid_template_rows": null,
      "height": null,
      "justify_content": null,
      "justify_items": null,
      "left": null,
      "margin": null,
      "max_height": null,
      "max_width": null,
      "min_height": null,
      "min_width": null,
      "object_fit": null,
      "object_position": null,
      "order": null,
      "overflow": null,
      "overflow_x": null,
      "overflow_y": null,
      "padding": null,
      "right": null,
      "top": null,
      "visibility": null,
      "width": null
     }
    },
    "1fa2d7121a604c259d14964e3eb61147": {
     "model_module": "@jupyter-widgets/controls",
     "model_module_version": "1.5.0",
     "model_name": "SliderStyleModel",
     "state": {
      "_model_module": "@jupyter-widgets/controls",
      "_model_module_version": "1.5.0",
      "_model_name": "SliderStyleModel",
      "_view_count": null,
      "_view_module": "@jupyter-widgets/base",
      "_view_module_version": "1.2.0",
      "_view_name": "StyleView",
      "description_width": "",
      "handle_color": null
     }
    },
    "285a33db03924155ab8acc6df176d731": {
     "model_module": "@jupyter-widgets/output",
     "model_module_version": "1.0.0",
     "model_name": "OutputModel",
     "state": {
      "_dom_classes": [],
      "_model_module": "@jupyter-widgets/output",
      "_model_module_version": "1.0.0",
      "_model_name": "OutputModel",
      "_view_count": null,
      "_view_module": "@jupyter-widgets/output",
      "_view_module_version": "1.0.0",
      "_view_name": "OutputView",
      "layout": "IPY_MODEL_9e7e94f0b94d4ffd9679f9f1271ce57e",
      "msg_id": "",
      "outputs": [
       {
        "data": {
         "image/jpeg": "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\n",
         "text/html": "\n        <iframe\n            width=\"600\"\n            height=\"231\"\n            src=\"https://www.youtube.com/embed/218ne2ab3JA?rel=0&loop=1\"\n            frameborder=\"0\"\n            allowfullscreen\n            \n        ></iframe>\n        ",
         "text/plain": "<IPython.lib.display.YouTubeVideo at 0x7b45a40eec80>"
        },
        "metadata": {},
        "output_type": "display_data"
       }
      ]
     }
    },
    "2916047c0e78438eb085943b004d5ef2": {
     "model_module": "@jupyter-widgets/controls",
     "model_module_version": "1.5.0",
     "model_name": "VBoxModel",
     "state": {
      "_dom_classes": [
       "widget-interact"
      ],
      "_model_module": "@jupyter-widgets/controls",
      "_model_module_version": "1.5.0",
      "_model_name": "VBoxModel",
      "_view_count": null,
      "_view_module": "@jupyter-widgets/controls",
      "_view_module_version": "1.5.0",
      "_view_name": "VBoxView",
      "box_style": "",
      "children": [
       "IPY_MODEL_d38adf3add2b4db0b91e4d700b3f7726",
       "IPY_MODEL_94005475197b4b8c9f779e92335094fb"
      ],
      "layout": "IPY_MODEL_c6131811960044158bba41aa8d54d678"
     }
    },
    "2dbac819cb734c4394528eb3946769d2": {
     "model_module": "@jupyter-widgets/controls",
     "model_module_version": "1.5.0",
     "model_name": "VBoxModel",
     "state": {
      "_dom_classes": [
       "widget-interact"
      ],
      "_model_module": "@jupyter-widgets/controls",
      "_model_module_version": "1.5.0",
      "_model_name": "VBoxModel",
      "_view_count": null,
      "_view_module": "@jupyter-widgets/controls",
      "_view_module_version": "1.5.0",
      "_view_name": "VBoxView",
      "box_style": "",
      "children": [
       "IPY_MODEL_3f8fd2fd7fa84c46a7366c2bd070e1b6",
       "IPY_MODEL_797679b302db4b62bc57dadb4732f2d7"
      ],
      "layout": "IPY_MODEL_bb78bced2784454aba4e76bc795b6968"
     }
    },
    "349e2286e0a14222ae9cf4bd8735f6e8": {
     "model_module": "@jupyter-widgets/controls",
     "model_module_version": "1.5.0",
     "model_name": "VBoxModel",
     "state": {
      "_dom_classes": [
       "widget-interact"
      ],
      "_model_module": "@jupyter-widgets/controls",
      "_model_module_version": "1.5.0",
      "_model_name": "VBoxModel",
      "_view_count": null,
      "_view_module": "@jupyter-widgets/controls",
      "_view_module_version": "1.5.0",
      "_view_name": "VBoxView",
      "box_style": "",
      "children": [
       "IPY_MODEL_8d0d17c7ba8540a9ae3215839ef31c1d",
       "IPY_MODEL_285a33db03924155ab8acc6df176d731"
      ],
      "layout": "IPY_MODEL_c6179150f2fe406786ab41fdbb5249c2"
     }
    },
    "3a3573ce5f7447e08ed39fd3d5f3bd42": {
     "model_module": "@jupyter-widgets/controls",
     "model_module_version": "1.5.0",
     "model_name": "IntSliderModel",
     "state": {
      "_dom_classes": [],
      "_model_module": "@jupyter-widgets/controls",
      "_model_module_version": "1.5.0",
      "_model_name": "IntSliderModel",
      "_view_count": null,
      "_view_module": "@jupyter-widgets/controls",
      "_view_module_version": "1.5.0",
      "_view_name": "IntSliderView",
      "continuous_update": false,
      "description": "resize",
      "description_tooltip": null,
      "disabled": false,
      "layout": "IPY_MODEL_a9c8ac6d32a04783a936fcd9793a563d",
      "max": 1100,
      "min": 300,
      "orientation": "horizontal",
      "readout": false,
      "readout_format": "d",
      "step": 50,
      "style": "IPY_MODEL_94e544a3f65b499bbe1c4052edbaa234",
      "value": 600
     }
    },
    "3f8fd2fd7fa84c46a7366c2bd070e1b6": {
     "model_module": "@jupyter-widgets/controls",
     "model_module_version": "1.5.0",
     "model_name": "IntSliderModel",
     "state": {
      "_dom_classes": [],
      "_model_module": "@jupyter-widgets/controls",
      "_model_module_version": "1.5.0",
      "_model_name": "IntSliderModel",
      "_view_count": null,
      "_view_module": "@jupyter-widgets/controls",
      "_view_module_version": "1.5.0",
      "_view_name": "IntSliderView",
      "continuous_update": false,
      "description": "resize",
      "description_tooltip": null,
      "disabled": false,
      "layout": "IPY_MODEL_0c968a8267e942dfa8b5d44bc67ac2ae",
      "max": 1100,
      "min": 300,
      "orientation": "horizontal",
      "readout": false,
      "readout_format": "d",
      "step": 50,
      "style": "IPY_MODEL_b511f5905beb441182f32007c9928f40",
      "value": 600
     }
    },
    "41080c5a84c54ce29b4a113ee698cb30": {
     "model_module": "@jupyter-widgets/base",
     "model_module_version": "1.2.0",
     "model_name": "LayoutModel",
     "state": {
      "_model_module": "@jupyter-widgets/base",
      "_model_module_version": "1.2.0",
      "_model_name": "LayoutModel",
      "_view_count": null,
      "_view_module": "@jupyter-widgets/base",
      "_view_module_version": "1.2.0",
      "_view_name": "LayoutView",
      "align_content": null,
      "align_items": null,
      "align_self": null,
      "border": null,
      "bottom": null,
      "display": null,
      "flex": null,
      "flex_flow": null,
      "grid_area": null,
      "grid_auto_columns": null,
      "grid_auto_flow": null,
      "grid_auto_rows": null,
      "grid_column": null,
      "grid_gap": null,
      "grid_row": null,
      "grid_template_areas": null,
      "grid_template_columns": null,
      "grid_template_rows": null,
      "height": null,
      "justify_content": null,
      "justify_items": null,
      "left": null,
      "margin": null,
      "max_height": null,
      "max_width": null,
      "min_height": null,
      "min_width": null,
      "object_fit": null,
      "object_position": null,
      "order": null,
      "overflow": null,
      "overflow_x": null,
      "overflow_y": null,
      "padding": null,
      "right": null,
      "top": null,
      "visibility": null,
      "width": null
     }
    },
    "41ae1e35720f4351b028a0254f719093": {
     "model_module": "@jupyter-widgets/base",
     "model_module_version": "1.2.0",
     "model_name": "LayoutModel",
     "state": {
      "_model_module": "@jupyter-widgets/base",
      "_model_module_version": "1.2.0",
      "_model_name": "LayoutModel",
      "_view_count": null,
      "_view_module": "@jupyter-widgets/base",
      "_view_module_version": "1.2.0",
      "_view_name": "LayoutView",
      "align_content": null,
      "align_items": null,
      "align_self": null,
      "border": null,
      "bottom": null,
      "display": null,
      "flex": null,
      "flex_flow": null,
      "grid_area": null,
      "grid_auto_columns": null,
      "grid_auto_flow": null,
      "grid_auto_rows": null,
      "grid_column": null,
      "grid_gap": null,
      "grid_row": null,
      "grid_template_areas": null,
      "grid_template_columns": null,
      "grid_template_rows": null,
      "height": null,
      "justify_content": null,
      "justify_items": null,
      "left": null,
      "margin": null,
      "max_height": null,
      "max_width": null,
      "min_height": null,
      "min_width": null,
      "object_fit": null,
      "object_position": null,
      "order": null,
      "overflow": null,
      "overflow_x": null,
      "overflow_y": null,
      "padding": null,
      "right": null,
      "top": null,
      "visibility": null,
      "width": null
     }
    },
    "4f989d7682604ec98c9468bf7c142d73": {
     "model_module": "@jupyter-widgets/output",
     "model_module_version": "1.0.0",
     "model_name": "OutputModel",
     "state": {
      "_dom_classes": [],
      "_model_module": "@jupyter-widgets/output",
      "_model_module_version": "1.0.0",
      "_model_name": "OutputModel",
      "_view_count": null,
      "_view_module": "@jupyter-widgets/output",
      "_view_module_version": "1.0.0",
      "_view_name": "OutputView",
      "layout": "IPY_MODEL_e049a15a20dd4b99be31f16d47f126f3",
      "msg_id": "",
      "outputs": [
       {
        "data": {
         "image/jpeg": "/9j/4AAQSkZJRgABAQAAAQABAAD/2wCEAAUDBAgICAgICAgICAgICAgICAgICAgICAgICAgICAgICAgIChALCAgOCggIDRUNDhISExMTCAsWGBYSGBASExIBBQUFBwcIDgkJDxcTEhIYFhUSEhUXFxUVFRcSFRYVEhUVFxITEhIVEhUTEhUXFRUVFRUSEhISEhUSEhIVFhUVEv/AABEIAWgB4AMBIgACEQEDEQH/xAAdAAEAAgIDAQEAAAAAAAAAAAAABggFBwEDBAIJ/8QAVxAAAQQBAgIFCAUIBwUFBAsAAQACAwQFERIGIQcTFDGUCBgiQVFUVdUVUmGR0RcjMkJxgaHSJDNTcpKx00Nik7ThNXN1stQ2dKPDFiU0RGWDhIWzwcL/xAAcAQEAAgMBAQEAAAAAAAAAAAAABAUCAwYBBwj/xAA4EQEAAQICBggDCAIDAQAAAAAAAQIDBBEFEiExUZETFUFSYXGh8CKB0QYUMkKSscHhFlMjM/FD/9oADAMBAAIRAxEAPwCmSIiAiIgIiICIiAiIgIiICIiAiIgIiICIiAiIgIiICIiAiIgIiICIiAiIgIiICIiAiIgIiICIiAiIgIiICIiAiIgIiICIiAiIgIiICIiAiIgIiICIiAiIgIiICIiAiIgIiICIiAiIgIiICIiAiIgIiICIiAiIgIiICIiAiIgIiICIiAiIgIiICIiAiIgIiICIiAiIgIiICKzPmVcVe/8AD/isj8uTzKuKvf8Ah/xWR+XIKzIrM+ZVxV7/AMP+KyPy5PMq4q9/4f8AFZH5cgrMisz5lXFXv/D/AIrI/Lk8yrir3/h/xWR+XIKzIrM+ZVxV7/w/4rI/Lk8yrir3/h/xWR+XIKzIrM+ZVxV7/wAP+KyPy5PMq4q9/wCH/FZH5cgrMisz5lXFXv8Aw/4rI/Lk8yrir3/h/wAVkflyCsyKzPmVcVe/8P8Aisj8uTzKuKvf+H/FZH5cgrMisz5lXFXv/D/isj8uTzKuKvf+H/FZH5cgrMisz5lXFXv/AA/4rI/Lk8yrir3/AIf8VkflyCsyKzPmVcVe/wDD/isj8uTzKuKvf+H/ABWR+XIKzIrM+ZVxV7/w/wCKyPy5PMq4q9/4f8VkflyCsyKzPmVcVe/8P+KyPy5PMq4q9/4f8VkflyCsyKzPmVcVe/8AD/isj8uTzKuKvf8Ah/xWR+XIKzIrM+ZVxV7/AMP+KyPy5PMq4q9/4f8AFZH5cgrMisz5lXFXv/D/AIrI/Lk8yrir3/h/xWR+XIKzIrM+ZVxV7/w/4rI/Lk8yrir3/h/xWR+XIKzIrM+ZVxV7/wAP+KyPy5PMq4q9/wCH/FZH5cgrMisz5lXFXv8Aw/4rI/Lk8yrir3/h/wAVkflyCsyKzPmVcVe/8P8Aisj8uTzKuKvf+H/FZH5cgrMisz5lXFXv/D/isj8uTzKuKvf+H/FZH5cgrMisz5lXFXv/AA/4rI/Lk8yrir3/AIf8VkflyCsyKzPmVcVe/wDD/isj8uTzKuKvf+H/ABWR+XIKzIrM+ZVxV7/w/wCKyPy5PMq4q9/4f8VkflyCsyKzPmVcVe/8P+KyPy5PMq4q9/4f8VkflyCsyKzPmVcVe/8AD/isj8uTzKuKvf8Ah/xWR+XIKzIrM+ZVxV7/AMP+KyPy5PMq4q9/4f8AFZH5cgrMisz5lXFXv/D/AIrI/Lk8yrir3/h/xWR+XIKzIrM+ZVxV7/w/4rI/Lk8yrir3/h/xWR+XIKzIrM+ZVxV7/wAP+KyPy5PMq4q9/wCH/FZH5cgrMisz5lXFXv8Aw/4rI/Lk8yrir3/h/wAVkflyC/6IiAiIgIiICIiAiIgIiICIiAiIgIiICIiAiIgIiICIiAiIgIiICIiAiIgIiICIiAiIgIiICIiAiIgIiICIiAiIgIiICIiAiIgIiICIiAiIgIiICIiAiIgIiICIiAiIgIiICIiAiIgIiICIiAiIgIiICIiAiIgIiICIiAiIgIiICIiAiIgIiICIiAiIgIiICIiAiIgIiICIiAiIgIiICIiAiIgIiICIiAiKK9KfHtDhzHSZHIOfsa5sUMETd9i3Yk16qtXj19KV2h79AA1xJABQSpfMjw0FziGtaCSSQAAOZJJ7gqhnyhuMJZevjp4KrA6QObQnbdmmbDqNWTXY5A3rtN3pNj07uXqUe6V+N8pxR1cORMdPHRkPOLozzPitSg6iS7Zexjp2tPNsYY0AgE7iAVMowF+qY+HLzQ68dYpifiz8l2qtqKVgkikjkjd+jJG9r2H1cnNOhULh6XuGX5IYhmboOyDphXbA2bUOsF2wV2zAdS6wX+h1Ydu3ejpryVOOHXWsZDcrYvIXMbUyG3tlWo+JscpaC3dHJJG6WpI5p2udA5hIDRryGnijwlRsLa7YGNiYQ5gbq1zHt7pGytIe2UHnvB3fapNOibs55zEcPH37hHq0tajLKJnj4e/crzcddIOFwQiOXyVWiZtepZNJ+dlDSA50cTAXuaC4AuA0GoWYxGaqW6kd6rZhnpyx9dHZjka6F0XPV/WA6ADQ6692066aKhMtKOSZ1ibfZsuAa6zblluWXNA0DTYtPfIWgerXReBt+DHTV67m2rWKmmdLkOHq1y7FBai287bKVeVsJfG5jXFjwI5du089pWnE6Ou2bU3PxTH5Y3z4RnlGc/JssaRt3bkUZTGfbP8AOS6FTpx4QlmdXZxFiusaS0l9pkUJIOnoWJdIXj2FriD6lieNvKH4XxcghFuTKSiPrpm4aMZFtauBq6exNE7qY4wOZG4uA0OmhCx+AxuGt0Kr6dTHzY+SFj6oZUgMHVOGrdsZZowjmCCNQQQeeqzNChBXZ1deCGCPn+bhijij59/oRgDmvm1z7bU05x0M5xPbVl/GebpqdFTO3W9P7TjhrinH5KlXyNK3DNTtRiSCcPDWuB5Frg/R0cjXatcxwDmuaQQCCFmA4HQggg8xp6x9irpkehDhSxLJNLhoC+V7pH9XNcgZud+kWxQTtjj107mgBcQdG12vVdi6PE+ao4R2oGPiNZ88EZPOvVyksZtV63LTYCdBrz5nWfZ+2Oj6/wAWtT5xn8vhmf4aatGXo3ZT78VjGuB7iDoSOR15jkR+1cqs/BfC1jgzLS3MLVuX8Ffq9Vdw8FmN9mHIMc0w5GE5CZrZGuaHMeOsBHWk6ODWhm1uivpYpZ+zeotp5HG5DHdW6zSycEcMvVSkhk0RikeySIkaa6jvBGoIJvMDpLDYyiKrVUT4fmjzjsRbtiu1OVUfPsbCREU9pERQbpxw9azhrks8LZJa1eV1eQ6h8Ln7A90bmkFpO1vP7AgnKKG8IOLmW8DkPz8lOMMY+Xn2/Ez7m1Z3HXV8jWtfXlPeZIHO0AkavB0Y4CnVyXELq9eOIwZGGrCWg/m678PiLLomankwzSPfp7XlBsFFGsxxXssvpUqdjJWogx1lsDoIoKgkbvjFqzYkaxsjm6OEbN79HNcWhpBPOG4r6yy2lcp2Mdbka99eOwYJIbbYwHSdls15HMkewHUxu2SAAu2lo3IJIi19005qzBUMUOOvzsM2MkN2vLQZAx4ylb+jOE1yOx1rtjW6tjLPz7NXAby3K1OK7z5I2O4bzMTXyMY6aSfAGOFrnBrpZBHlnPMbQS4hjXO0adA46AhLEXBIA1PIDvPsUPr8aTWwZcZird+p/s7vXVKteyByLqYsSiSeLlykLWsdyLXOHNBMVisLxJjr0k8VK/Tty1nbLMdazDO+u8OcwtmZE4mJ25j26O05scPUV08L8SQ3+uYIp6tqs5jbdK01jLNcyAmMuEb3RyRPDXFssbnMdsdo4lrgIxlc1DR4htl0cs00+GxkdapWY19m1L23MPLImOc1vJoLnPe5rGgauc0c0GwkUQk4zlrOYcni7WPrSPbH2101SzWhfI4MjbbNaUvrBznBvWFpjBPN7dRrJctkIKkEtmzI2GCBjpJZXnRrGNGpcfwHMoPUih7OLrz2dfFw/kn1v0ml8uPgtyR+qRlKay17dRzDJCx/dq0HkpBw9ma9+uyzWeXxPLmkOa6OSOSNxZLDNFIA+GZj2ua5jgC0tIIQZBFGMlxae0y06FGxkp65aLToXwQ1aj3ND2wzWbEjWmwWOa7q4w9zQ5pcGhzdezBcVCawaVqrYx13q3SxwWTC9lmFhaHy1LFeR8U4YXtDm6h7dwJaAQSHvyXEePrWIKlm9Tr2rOnZq01mGKxY3P6tvUwvcHy6v9EbQefJZRRLpTA7LTOg1GawOh9f/bFJc8Uca9ivQ4+HGZDJWZoHWA2i7HkRxteWEz9quRGBpI5PeAxxOjXFwIASxF11pC9jHOY6NzmtcY37C+MkAljzG5zC4dx2kjlyJ71Cuk3pQxvD0tSK82091zeWmvEx4ijjcxr5Zeskb6ILxyZudyPLu1CcojTqNfaiAiIgIiICIiAiIgIiICIiAiIgIiICIiAiIggflA8Zz4DhzJZSrEJbUDIo6zHNLmCezPFWjke0fpNYZd+nr2aetU+vW8hdfHPlslbylmMuex1l4EED5BpI6rVjAhgJHLcG7tOWoHJbM8p7pDt38xb4XhayDG4w46xknuAdPesyRxZCpBGdfzVRhMD3HTc58Gmu0nXWTnaAk68gSdBqeXPkB3lXei8NGU3Ko8vlvlSaTxM5xbpnz+e6BzgBqSAB3knQD9681zJV4XxxyzRRvlOkbXva0vPdyB+3l+0gLbPQB0MOzJqZ/N9knxEtcT43Dgiy2wZmtMdrJkHqi5jS7+j6O2uPpEFhDtz8PdBvCtBuQZWxEIZk4jXtNlknsN7OS49TALEjuyx7nF2kW3mGfUbpld0vETMURn4vLWiZmImucvBUpcKbdI3QlkuGas96C8MrhqwL5BYb1eUo1gQN5cwdVeijbq5x/NuDQSGnTaoUrHDYqi/TnT84V+Jw1dirKr5S4XxOHbXGPZ1m0hheCW689odt57dfYvtdVuHrGOZvfHu09OJwa9uhB9FxB07tO7uJW+dyPG9snyWb9iN2Wxc8jJGROrZKDq2OjZH251iOzEyN73FrOtrB/f3zPPLVbxVevJqlq07Get28hFGxpoUWOvWq8cg6mOazM479mkWtuIA+stfz5LdmE4sxV55ipZPHXJANTHUvVbMgHtLIZHEBfnX7XYfLSd+bdM6ucZzlszyjPbu37/F9S0RczwtvWnbl/wCMyiKMdInHFLCQMlsl0k85cynSh0dZtytALmxNJ0axoILpHaNYCCTzAPN2LFy/XFu3EzVOyIjfKxrrpopmqqcojezWdy9WhXlt3J461aBu+WaV21jG9w+1zidAGgEkkAAkrQOL6YWYjiG/xHWxM7sXfq1q+TExhiyEgqb2Q3qUW/SNuwxh0MxDnBjT6BHKKZ/iK/nbbpss0sbVlElKgzV2PrhwPVzNf3XLYG5pkfoWnXa1gI1xv0JF2aSqHP6lzt0bX7ZGw6Oa9kbGvaWvha9gPVv3Aglp1byH2X7L/YyvB0Tfvz/yTExqxOynwnjOceUeri9J6fpuVxbt/hiYznj5beHN+g2Ivx2q8FqEkxWYYp4i4FpMczGyMJaebTtcOS9S1t5NXFeRzXDtS/kxGbL5LMTZ4ouoZbhrzvgitCEcoy8MPJujTpqAAQBslWjaKKdL/wD2Fk//AHV/+bVK1h+LeGquUgFa4LDod24sguXKYk9FzdsppzMM0ejj6D9W6gHTUAgMdx/jZtIMnSjMl/GGSSOJmm+7TkDe247V3LWVrGPZqQBNXrk8gQcf0W5CG3Zz9qu8SwWMnTmhkb3Pjk4ewjmnnzB0PceYIIUn4ewsNGIwwPtPYXukJt3bl+Xc4NBAmvTSSNZ6I9EHQak6cyuvh3hynjja7HCIO22pLtgNfI5r7MrWMkka17iIgRG30WaN1BOmpOoYPoqe1sORgfyuQ5nKuuNcdZC6xemsVJXevq30pKhZ7GBrf1dBz0oOa5uLhZobkuZxr6bRzkHZ7DJr0rfWI20W2w53dtkLf1wDks/wlUuTNtO6+vbYwRi3SsTVLDogXEQyvhcBYhBc4hkoc0FxIAJ1XPD/AAnUpSvst6+xbkZ1brd2xNbs9VqCYY5J3HqICWtJjjDWktBIJ5oPD0uf9lSH1C5iiT7AMtSJJ9gABP7lLF5spRhtQy17EbJoJ2OilikaHMkjeNHNcD3ggqMjo+qlojfczMkDdA2u/M5Hq9o7mPc2YSzR6ctsj3Ajv1QezpOp2LOEy0FQOdZmxt2KBrCWufK+vI1jGOHNrnE6A+0hYfhyrk7VStYpZyqassMbq+zDxhrYtoDWbRa9AtA2lve0tI9SmmOpRV4Y4II2QwwsbHFFG0NZHGwANY1o5BoACj1vgam6aSeCW7QkncXzjH3Z6sM0jubpZKzHdT17j3yBoe71koOrC8PWosm29bycVmXsM1UQx0mVS+MzwSiR5Ez3SCNzXActB2l/1lju0VmcYOZJtFmXh6u2q5w72tyF6SxExx5b3BsT9veRA89zDpIuHeFKVB75oY5H2ZWhktu1PPcuSRh24RutWnvl6rdzEYIaOWgC8J6PsWXWnvjszSWzGZJLGQyFiSMwyzTQmpJPYc+iY3zylvUFm3edNEGQ47sVYsZffd2mr2SdszXDd1jJI3R9UG/rveXBgaObi8AakqJcQxS18HgTkjuFOxgn5dzubQYRE108vsijudRM5x5NbE5x5AlZ+lwNTZNFPNLevPruD67b92xbhgkb+jKyCR3VmdvqlcHPb6nBSWeFkjHRyNa9j2uY9j2hzXtcNrmua7k5pBIIPfqg+gVD+BHskv5+avoar8hAze3+rluwUq8N2SM9ztCyGJzh+vXkHe0rlvR3Sa3qY7GUhqe5QZW9FWa3+zjayXfDB6urjc1mnLTTkpPi8fBVhjr1oo4IIWBkUMTAyONje5rGt5AIIv0RyMFCSHkLVe/kY77D/WC6+7PNLJIO/wDOiVkrXH9Jk0ZGoITpEex1nBQs0Nw5aOeADm9kEEE4vzHTm2Hs0kkRceW6zG3vcAshnOD6lqftetmrb2Njdao2Zqk0sbddkdjqXBlljdztola7bqdNNV28O8LVKL5JoxNNZmaGS27c81u09jTubF107nOjhBOojZtYDz01QYjphZI7HwNhkbFK7L4NsUrmda2OQ5emGSGPcOsDSQduo100Xh4NH0Nafj7/AKcmQsPlrZl49PKSnUiref3RZCNg2sYNI3xsHVNbtdG2TZ3hepenrWLPaXPqyRSwxsvXYa3WQStniklqQzNgne2RrXAyMcfRHsTjDhanloW17zZnwskbKGQ27dQOkZzYXmpKwyBrtHAO1Ac1rhzAIDNqNcaZLCQPpjLyY9kjpSaXbhAXCUFgL4etB6sglmrxppq3n3LL4LFx0oGV4XWHxsLyHWrVm7MS95ed1i5I+V41cdA5x0GgGgACwHHvR1is5JWlyMDpX1dwjLJpItzHlrnxSCNw3xksb9o56EanUJaiAackQEREBERAREQEREBERAREQEREBERAREQEREFKenHM1chxdlZ6XpxVK9TF2ZgBslv1H2HWGsPe7qhKyInu1YdOQ1MWlfta52hO0F2jRq46DXRo9Z5dyyvH2NrU+I+I6tKQyVm5M2Oen5q1cgitXazXD9Jsc0jtPZu2/q6nGLqsBGVinL3tcvj5/wCerP3sWK8iOg+HhnrHXa1ll6/Yvw1qs4nZi4rLYj2B5/2czXtke5mg0dK716k7zVF+iziJ3Dea+loK8tiCzWlq5KlXkjidY10krWWNme2F08crACXEHZNJoddQ7Z1jyobMla+xnDlypd6iUYt7rFa7WfZLS2I3drozXjDiHEAuBDSNQdNaC/g71FcxlM+MQvbGLtV0ROcR4TLMeWdxbcr1sbgq0QEOfdbjv2nAu6unSEEs1aPTk2Sdsm3ee5ocANXat0Kuy/msvkXQ2M3kpMlahjdHETFBXgrtlc18rYYK0bGb3FrQZHDc4RsHIDRdSvNHYaqzb+LfPuFLpDE03a/h3R7kREU9Xsbm8HXtslbJFD1kkT4mzmGN8se5paHNc4a6jXXvC4y2NjdCSytG+eMB0BZpBIyYabJI526Phc06O3NOo05alZNFrqs0VZ5xv2S203q6csp3Jlwd0wZWjW7Nk6TsxLGwCveqzQVnzENADL0U5GxwOv56PduHMt3a6wTO28nkL4ylyaF1h4ED6oB7NVp7y5sNN+3rGvGu5xdqJHa66ciPSipMD9mdHYO/ViLNGVU+O7jlwzWGI0zir9uLdc7P38xERX6qbj8kLjm/26xwtOBYo0sc29jbAbpJSriw2A0LDxylbrIDGT6QbG4EuGgbZpVM8kvK2YeJ79GOFstS9iYrVqYRjrKs1Od0NXWfUfmZGzzjqzqdzdzdAJNbZrkcVRFF2qmOLrsLXNVqmZ4CItb+UJxrYw2MZ2If0+/O2nUcAHGNz2uc+VrXcnSAANbry3SMJBAIMdvbGLwCASAT3Akan9g9a+loXHeTfVsRCfL5LIWMnKA+eaKWAsbL36B1mGSWbaeW9zhrpqA1evoK4Uy+Lz2ZhvSXLNSOtBFXu2DMYbID2ugMRkc4FzIy9pa0nYQR6xqG70WseP8AprxeKtGgyOzkbrTtkgpMa8RP016uSRzgDJp3tYHEevRfXR7004vL2hQdHZx95xIZXusa3rXAa7I5GuI6zTnseGk+oFBP8zlqtKLrrlmCpDuDetszRwR7na6N3yOA3HQ8vsK8uC4oxt9z2UchSuPjaHPZVtQTuY0nQOe2J5LW68tSuvjLhTH5iBtbI122YWStmY0vkjLJWtewPa+JzXNO2R7eR5hxC0/0FYmvR4t4mp1Y+qr14oWQx7nv2N3Ru03yEudzce8nvQb7Ubfx9gg8xnM4oSB2wsOQq7w/Xbs29Zru15aKSKtHlEdH2Hw8OLnxtNtWSfKxxSbJZ3MMeySTY2OSQsjaHNboGgaaad3JBZdEUA6TOlnF4GRlefrrN2QNc2nUa18rWu5MdK57msjB9Q1Lj3hpCCfotR8LdPeLtWo6dytcxU0pa2N11jRC4vOjA6QO3Ranluc0N/3ls/OZWvRrzW7crIK8DDJLK/Xa1o5dwBLnEkANAJJIABJAQe1FpCfyjsfue6DFZWxVjcQ6y2OJreXe7aX6NH98tPtAUl4S6ZMdkquWuQVrohxMUU8jTFG6aaOVkrh1UbJCNwMMgIJ05A66HkGykVTuFemGnV4lzOZkr5B9bIwQxRQMbAbDDC2BrOua6cRhrdkum1ztOs+0renRZ0p0uIZLMdWregdWYx7zaiiaxwkJaA18Mrxu1aeR0OndrodAnqxuD4goX+s7Fdq3OpLWy9lsRT9U52u0SdU47CdruR9hWE6T+PKvD9aK1agtzsmmEDW1I2Pc1xY5+rzLIxjG6MPedSe4d6hXk45nh+w/Jx4OhfpFvZZbfbZBIJS82Gx9X/SZS0jbJqPRHpN7/UG4kXXZnZEx8kj2xxxtc+R73BrGMYC5z3udya0AEknu0Wm8n5RGMbNJHRoZHIxxf1liCJrItPrNDzv28u97WIN0Ioj0a9ImN4ghfJRkeJItvX1Z2hliHdrtLmtcWvYdDo9hI5Ea6ghQ+/5QeFr2rdWevkonVHTsL314g2WWB/V9XEwTdYHPcDtL2tGg1Jag28i1Lwh07Y67dhoWKd7Gy2XNZWdbYwRyvedsbCWu3Mc92jQdC0nlr3LY3FWfq4ypNeuyiKvA0F7tC4kucGMYxjRq97nOa0Ad5IQZRFo8eUfQ16z6Jy3Yw7abXVwbQNdNSOt2D9m/VbL6NeMYM7QbfrxSwxmaaHq5tm8GJ+3U7HEaEbXd/Ldp6kElREQEREBERAREQEREBERAREQEREFHOlrAx4rizOVIHmSG4+LNncPSgsZJ0jrMLn6/nGmSMvb3aNft56anCrZHT30ecTy8VZHJUsQ/J0b1fHRVZK1qpEYjWg6uWKwyxK1zD1pldv027Xs5666eNvQXxiYWS9Rg2vdoXVHZK0Z49dPRdIykYXO79driO7mfVfYPHWbdmmmudvz4qLGYK7cuzVTGz5cEDRbV4V8nfPWBM/J5GhjfRcK0FKJ+ReX6ei+zNMYm9WD+pG3Uj9Zqwf5BeNOtdCDw/sDjpcfZutjezXkezMhMjZCNOWumuo105qR1ph8988mjqy/l2c0GRTWz0J8ZwudH2HFWyNNtmvkjDA7X1uiswiVhA7xz+wnvXfY6AOM4w17ZeHbO4elEye/CYnHu2ySVyJWD1nRp+xe9Z4fj6e/5Yxo2/wAPVA0Wy8j5OfFDa1Z9bKYSW49ru217MVyGpA7T0OyWIWPlnA7j1jG69407lB+lXgXL8KT1Dee7JYy3FC2XJw12xR08hJI6N1V0bOYgP5ssc/0jvdzJaQPKdJ2Kqoja9q0ZfpiZ2MYi5XCsFeIiICL5D27i3UbgA4t1G4NJIBI79NQef2FdTLbDM+DU9YyNkpBHIskdIxpB9fpRu1/cvM4exEuynl8pj8hjrODknblZbtarDVic7qckx8hL6d2IejJWDHSv3OH5s6uBafSH6ABUT6Psy/G8T8OW44W2HS3/AKKdCSQ/qsqGV5LEJ0OkkIaHn1Fu4Et13C9gXM6T/wC+dnB0ujf+iNvEWlPKxgkZVxGRbG6SHHZSKWwG97WPLSxxPc0F8TWan1yt9q3Wui/TisRSQTxsmhlY6OWKRofHIxw0cx7HcnNI9RUBPePhzP08jXZapWIrEEjQ4PjeDt9rZG98cg7i12hBBBCx+P41xlq9Pi6tyKa/XgdNJFGHPYxoc1hHXBvVF7XPYHMDtw3DULXuV8nDATSmSKXI02uOphr2InR6ewGzDJJp38i496nHR30d4rAse3HwFskoAlsSvMtiRre5peeTGa89jA1uvPTXmg1Z5IktRjMnFZLG57tsotCYtFp8TQwPDd3pOAsixvDe5xG7vavjyt5az3YmKkY3cQC9H2cQ7TaZCWvEYeW8262jVLA71tk07nKedIfQxhs1ObcrZ6lt2nWWKT2RulLeQdLHIx8bn6ct+0OI01J0Gn10ddDeGwkwtQsmtW27tlm49kj4tw0cYmRsZGxxHLft3aEjXQnUJ/PZjjAMsjI9eQL3NYCR36bjzWkOiy5C3jTip7pY2scyHa8vaGu5xfouJ0K2B0ldGOL4gdXfkBPvqtkZE6Cbq/RlLC9rmua5p5saddNeSiJ8m/h3TTXIaDuHaWaD/wCCg3BHMxzd7XNcwjXcHAt0Hedw5acj9y0Z5WVyGSphurljfpl4idkjXaDqZeZ0PIfatlYTo+x1PES4OJkpoTx2I5WvmeZXi1u649Y3TYTuP6IAHs71CG+Thw6O45Afssx/6KDble5DISI5Y3kDUhj2uIHdqQ08gqp4n6YbxjnBTmxUOUNu11Ry+8OdXdLrA2mdjvznZez8uRMemmoDlu7gDobw2EuC9TFo2GxviaZp9zWtk0D/AEWMaHEgfra/evZ0kdFeIzzmy3IpI7LWhjbdZ4in2Dm1j9zXRytB5je0kc9NNTqGqulDhPi3JVBFmrXC8cEbxI2eSWSs+Ijkdk8kHoNcORHcQvT5Q0NuLhHBRWJuvDJcdHkJ60hmjm2UpAJWy6DrY3SAODiBq4xnv0Wcx/k24Jjw+exkrYH+zlsQsYR7C6vAyQfucFtObhui+gMW+tE7HiuyqKpB6sQRta2NgOu4Foa0hwO4FoIOo1Qc8KPoGlX+jTAaLYmiv2ctMIiA5Bu3kPt1566689VFejbD4ChkcxFirTJLtmRlm9VbPHIKwDpS1kUcbR1cQfO/0dSW9Y0HQbQonc8mzCOe50VvKV2OOvVRz13sH2B01dzz7PSJKnfRx0b4rANk7BC/rZmtbLYmkMs72NOoZroGxs157WNaCQCddAg170cPaOP+JmkgF1WPa0kAu0ZjidB69NQf3rcFzPUYLENSa5VitWDtgrPniZPMQNdI4i7c/u9QUL6R+hvEZyx2yY2atsta2SxTkYx0oYNrOtZLG9hcG+juADtAASQBp08C9CODxNiO3GyxbtRO3xTXJWv6t47ntihYyMvHqc5pI01GhQbGs2oo9Oskjj17t72t1079Nx5rRvQPchZxLxm58sbWvvNLHOe1ocO15E6tJPpDmO72hT7pI6KsTn5obF8WOtgiMLHQzbAYy4v2ua5rm/pOcdQAefPXQaRY+Tfw77chy7v6TH/ooMz5SZmk4XyJqkuG2u6QxnXWsLMJnOre+PYCXeraHa8tVkOgqxjXYGgMaYQxlaIWWsLesZb6tvae0gcxOZNxJd3ggjkQs/wfwtTxWPixlVjjUiEoDJnGYuE8j5Zd5dycHOkfy0056aaLXGc8nTA2JnSwyXqLXkl0FWaIw8zqQxtiGRzG8z6IO0a6AAIMBhZKsvSKX4cxmAUJhlX1tOodPskEpJZ6BPW9gDtP9o12vPcvRbhrzdJDOubDK2PGsfHv2OayxHHowgHl1rS46esHmOYW0uj7gPG4KF0OPg2GTaZp5HGSxOWa7eskP6o1OjGgNG52gGp1ho8n3h7tHaNt3Xruv6vtbur37+s0129Zpu9e7X7UGG8q8sB4ddq0SNyzCDqA9rD1Zcde8M1Y37NWj2KW+UG7FSYR0GVtPqQWp4IoLMUTrBjsgmaKQxs/TiDY3l3Mat3aEEgrt6QeiHEZy2Lt3tTZxCyAugn2NdHG57mAsc1wBBkd3ad692b6NMVcxdPDzRymlQMJrtbPI2RphjfE3dJrq4FkjwR/vctNBoGrYuHeM8ZQ/oWaxGTxUNfbHFYEJjkqtj0DN0sO0xGPloZ9NPXopr5M/ENbIYT+jUYcf2W1LBNBX39Q6VzIrBmi6xznta4Tt9FxJaQRqQATgj5NWD36i3lBFu3dR11XZ7dNxrb9Pt11+1bV4R4bpYqqynQgbBAwl20FznPe79KSSR5LpJDoPScT3AdwAQZdERAREQERdVuwyKN8sjgyONjpJHuOjWMYC5znH1AAE/uQdqKqnFnlIZSSxJ9GQVa9MOIhNiJ81mRgOgkkPWNZGXDQ7A07ddNzu9YU+UJxJ/a0h+ymP/7eguKipwfKB4l/t6ng2fzLjzgOJfeKvg4vxQXIUK6SelLCcPOrx5O2Y57e4160EE9qzI1n6cggrsc5sY5+k4AHQ6a6HStZ6f8Aib3msPtFOLUfaNeSidHj3Jx37OUdLHYyVprY5LtmCKWZkDANtavoA2rW1G7q4g0EnU6nmtV6bkUTNuImeyJnKOeU/sypyz2rH5zp1jsQ9Vw3i8ll8hKAIhYo28Zj6+7TWW5cvRxgRtBJ2M1LyA0Ea7hjcJ0j8Z0S9uZwFPKteA+Cfh6yIRC7TV0FiDIy738zykby5c9ddRps9MWd/tq/ho0/LDnP7av4WNU1yvTU1xNFNqI4TNU5/OIhJinC5ZTNWfHKP7bwHSdxdKXSQ8I1IIgfQiu5+BtqVugOulavJHESdRo53qXk4g4n41yvVso16XCkbATNPblrZq5PJqNscEUANeKvpu1c87yS3QN0Oumvyw5z+2r+FjT8sOc/tq/hY1Hr/wAgqiYjoo8Y1tnPOOcSzj7nHe9Hv6aeK+MRPWwdrOQiGSs27atYuq/F25ouukhbAJ2yvPN8erhHsGhAO4HRYThrj7i/GxCvW4kkmrM5QsyNGvfnjbzO02pSJZO/T0joAAAAFhuK+KrmUngs23RumrRTQRujjbGOqnfE97Xhv6fpRMI17uftWN7dJ7R/hC6vRdVFOGppxkZ3PzTTu8Mt3Z4KbGUX5uzNicqeyJ/8lI7HGfF8k7bbuKrwsxuDo2RV68VAN1/Qkx7AIpxpy1fr6u9ZTi7pM4uybGwyZxtCAtLZRiaQpTy8v0u1Pnklhd/3ZaOZ5KEduk9o/wAITt0ntH+EKx6XAd2ffzRejx/ej38mQxVzN0XibHcSZuvL3nr7jr1eRx73y1bOscjj7SPuXqvcS8V2JY7U3FmU7XC5roTAIqtIFp1/PY+ACCwCORDxoddDqOSwvbpPaP8ACE7dJ7R/hC9m9gJnPUn383kWcdEZa0e/kmPFnSFxZk5I3y5+WgyFjNkOHr9gY6VvfNO50skk+71xl2z2Nb64nxA/N5a5Ts5vNzZSOjqa9d8EcETHhrg2QRQERdcCQTJtLzsaCeQ06u3Se0f4QnbpPaP8ISm9gImJimdnviVWcdMTE1Rt98GWRYnt0ntH+EJ26T2j/CFM62sePv5ofVV7w9/Jll0X7bYWtc4Pe58kcMUUTHSSzTSuDIoYo2jV8jnEAALwduk9o/whdmNykte3Wus2Gem6R9frGB8bJJGGMyGM+i6QNJ2uPNu46LVf0vTFuroozqy+GJ2Rn2Z79jZa0TXrxrzs7ct/7JDjOjjiK7YbYhxgx/5kwuly1mKJha6Rrx/Rahlne9pa7TXYPTd7eUyxvQHLI8TZDNStk6vqyzFVY6wDN2/b11szOd6Xr2t71HfywZz+2r+FjXP5YM5/bV/Cxr5/jb32mxGeVyiiOFOf7zTMumsYbRtr8sz57f5TroW4WxWH46kx7m2bdk4OLIYu3enNmSs7rrdXItiJAbFJKww82tGjYXjkHaG0aohjekTJ18q/NsdXORfTbQ659dj2x1WyGXq4mdzC551JHMqUecDxL/b1PBx/irnB03qbNEX51q4iNad+ctVzU1p1IyjshcdFU3hryjsxDOw34atuqSBK2KIwWA3Xm6F4eWFwGp2ubodNNW66i1OKvRWoIbMDxJBYijnhkHc+KVgkjePsLXA/vUlg9KIiAiFEBERAREQEREBERAREQEREBERAREQEREBERAREQEREBERAWN4pxvbaN2nu2drqWKwf37DPC+LdoO/Tdr+5ZJEH54cQ4izjrMtO7E6vZhO18b+WvMgPjJ5SRO0Ja8cnDmF4N49o+8L9FrlGGYATQxSgdwljZIBr36bwdF4zw5j/AHCl4WD+RB+eu8e0feFzuHtCvpxZFhMVRs5G9VowVKcTpp5TTidtY31BrYy57ySAGjmS4Ad60/0fY2HIXMrnpMScfXy/YG0sfcjgMrKtOuWNtvrsBZUlnMupjBJAhaSTuVbpXSdvAWJu17eyKc8pny8t7fh7FV6vVjmrVuHtCbh7Qrk/QlL3Op4aH+RPoSl7nU8ND/IuW/zm3/pn9X9LDqmrveim24e0JuHtCuT9CUvc6nhof5E+hKXudTw0P8if5zb/ANM/q/o6pq73optuHtCbh7Qrk/QlL3Op4aH+RPoSl7nU8ND/ACJ/nNv/AEz+r+jqmrveim4I9qKz3SxhqjsJmYoK9Vtp2KvugbHFAyfrGVZXNMegDgQQOY7lWfGYtrmxTdrtzNc2OVoe+JrCC0OALYYmbmnXuK637OY3riiuqinV1ZiMpnPf29in0lMYKYiqc88/R0os91bfqt+4J1bfqt+4Lp+p6u96Kjrenu+rAos91bfqt+4J1bfqt+4J1PV3vQ63p7vqwKLPdW36rfuCdW36rfuCdT1d70Ot6e76sCiz3Vt+q37gvBftiGxXje2NsMzJwZHjTSaMRvjYHE6DVnXnn/Z/f5VomaYzmv04vadKxVOUU+vD5PAhIWU4dwNzNW2HCxukZsdBZuyMIxUI1DmymZ2gnsRku0ZCHF27R20DUWa4P4Hx+NpQUmQRz9S307FmOOWeeVxL5ZpXvBO5zy47RyaNANAAuO09pzC6Mqi3E9JV200zujjM7dvgvcBh7uKp1pjVjx9wqhuHtCbh7Qri/QlL3Op4aH+RPoSl7nU8ND/Iue/zi3/pn9X9LHqmrveinYK43j2j7wt4dM/DzsxfxvDmFpxw5TfDlpckyNkEGLoRTOhM8hYB2pz5AWiDnqWA6dxFmW8N4/3Cl4WD+RdXo3HTjLFN7UmnPdE7dnH5q6/a6Ouac88lAcPj57k8dWpE+xYmcGxwxDc9xPr5fotHeXHQAAkkAK+/AGFdjsVj6L3B8lSnXgke39F0kcbWyFuvPZu3afZosnSoQQaiGGKEHvEUbI9f27ANV6VPaRERAREQEREBERAREQEREBERAREQEREBERAREQEREBERAREQEREBERBoLyl+krK4fIU6mNtNrh9M2JgYK8xcXzPjj5zxu2gCF/dp3rVP5dOKfiTfBUP9BZXyuZd3EYH9njajB/xbUn/zCtQINk5HpSuZXF56lxDkGvoSYS6Y2CtUje/INfB9HNiEUbXSS9oMejNdDzJ0AJHmb0xZk06VfqpKF2rH1NuZ4q24r4bHCyKzG8xaRyl8c7nxho29YzvBAbru9iDZrW5hNDCcZAMoOvO2Oc1bFdgq7ydGPkMwa089XbR+tqMlk3hzYngEBzS4A8iA4NIBHqPNY3dF4XF25uXqdabc50xO74tk5x2/XJrnF3bVymijZFWec9uzbCVflYz/AL63wlP/AEU/Kxn/AH1vhKf+ioOig9UYD/TR+mPolfeb3enmnH5WM/763wlP/RWS4W6T83PepQS3Guimt1opG9mqt3RyTMY9u5sQLdWk8xzWtV9xOla5pgldBMCDDM0AuhlB1jlaD+s12jh+xYV6GwVdM002qImdkfDG+d3Y9jFXKds1TzWN6ZOkODGwuqVbjG5d5jfHCxjbD4YhI10klhpa5ldjow4NMmm4uG3VaW4g4/zN6LqJ8hYZGf0uykUnu+x0tMMkLf8Ad10Op11UTq0mjeZqnV2onF7rbXOkbaMx0klNhx6yV7iNXNl1IO089AV2rDB/ZnDaOopoqiK6vxTVNMZ57sozjOIjL+WM6SrxOdUZxG7LP6ebxuxcG7eGdXLq49fE98Vk743RSB1mNwle1zHvaQXEEOOuqyUVl7GtY0hrWtDWtDWgNa0aAAacgAF0orqi7XRtpnLyRqrVFX4oifN6e2y/W/g38FlGOOwH17Af37dVg1mo/wCrH/dj/wAqt9GXa65r1pmdnFU6StUURRqxEbWM7bL9b+DfwXPbZfrfwb+C8yKr+9Xu9PNZ/dbPdjk9PbZfrfwb+Cdtk+t/Bv4LzIn3q93p5n3az3Y5MvSsatBe4aknTUga6ewLCw1Io5nSviitP3ud/TY23YtdToRXtb4mgA6ABugHcu23HVMUbrNTtWj3tYBUNpzNdCeQYSwHaOfIcgvhgYABHGYmaehGWdWY2+phj/U0Hq9Sm46qa7FEVbd2e3bu7ULB0RTfryj02b+xNoelPOMa1jLcbGNAa1jKdNrWgdwa1sOjR9gX3+VfPe+t8LU/0lB0XNzonAz/APKj9MfRdfebvenmm/5V89763wtT/SWyegri/IZSW829OJhDHXdGBDDFtMjpg4/mmN112N7/AGKv62n0BZqrj2Zm5dnjrVYIKbpZpTo1oMk7Wj2ue5xDQ0aklwABJVPp7ReGpwNybVqmKtmWVMZ7aojZlGaVg8Rcm7GtVOW3fPgx/G3H9qDii5fx26lax0T8EJXBkpmhY9tqZzoJWljWOlkG3UElsTHA+loO/wDLpxT8Sb4Kh/oKGca5Ht2Su5JtK1Sr5GWOxUFuJ0MtqvHXhqNuiN3Nscj60mn939qxCu9HWeiwtujLLKmM44Tlt9US9VrV1T4yst5OHShmMtl5aeStNni7BNNE0V60JbLHNXbruhjaT6Ej+RVh1TTyWZ9nE1Rv9rXuR/dA6X/5SuWprUIiICIiAiIgIiICIiAiIgIiICIiAiIgIiICIiAiIgIiICIiAiIgIiINDdNnQvk85ln36tmjHE6vBEGWH2GyB0QduOkcLm6Hd7VCPNpzfvmK/wCLb/8ASrZvTX0x2eHsjFSjx8VpktOOyJX2HxHc+aeJ0exsbhoOpaddf1/sUG85638HreMl/wBBBqnpr6K7ODjxzb13HSy3MhXEFKu+eSeeOCRslmQskha0V44+bnE6alg9axd+uZNuhA0179fXp7B9iyfSjxnJnsxDl5YG13QY1uOjrNldLGNLM1h9gOc0aSO61rCNO6Mcz3DCfSJ+qPv/AOis8Jcw8WqqLk7/AOFZi7eIqu01243fy+fo5/tb95/BPo5/tb95/BdkN8uc0bRzIHf7eS9VuXY0u015jl+0qVRhsFXTNcZ5Rv3o1eJxlFUUTlnO54HY9+h5tP2ann9nML5Zj5XNB3dU4t7xtc+Mkd45OY5zT+0aj1rt+kj9Qff/ANE+kj9Qff8A9FpiNHxOec+v0bpnHzGWUen1ey3EXsLR3nTv+wg+peH6Of7W/efwX19JH6g+/wD6J9JH6g+//ot1+9gr1WtVM+rTYs42zTq0RHp9Xz9HP9rfvP4J9HP9rfvP4LIl/o7v93dp+7VeD6SP1B9//RL2GwVrLXz27t5ZxOMu56uWzfufP0c/2t+8/gsg1mjA31hoH2d2ixNq7M9kjWPbE5wIZIGbjHr+to52j3Ae3lr6vUvJdZIHEVLVqCExNZ1dmSK/I2QN0fK2w+Jj9XH0tp1AJPq0012sVhLEzqRM57/cs7mGxd6I15jZu9wyP0c/2t+8/gn0c/2t+8/gvDkWcohRltU9K4isddZOQ7ROO+4O0MBrzO1JLIyGcho1vPWwXRx0LYTiHhynZiF/FXwZojfgyNm1NNJBI6J0tpllxhnEjmbywMaG6lrS0KJNeE7s80vUxfejk0X9HP8Aa3+P4J9HP9rf4/gsjXx9XEZHIVsvA7iR1SzPUi7TZlx9MdQ98Lpuw1NQ+R2mvpvdt5acxuUZfFY0cyO5YjiBkMLR1MksYc7WJkk80bnTsYOXMNLtOZC9i5g89tNXN5NGLy2VU8mbd1sMP5uLr5N3JgkbGPSPeXv7mjvOgJ9gKzHAHA93NttyRSVYH1LDYJ2TSSn85JBFZDonRxHfHtmA1IadWnkofWkusaQbYl5aB0laPcPtHVloJ/aD3rNcF8UZXDi4KVxn9OdFJM+zVinkbNHCyHfFsLGNG1vJrmuAG0c9CTF01fuXcLFGDnKuMstbdl28ZzyZ6Pw8270138pic88t+f7ZJ5+Q/Ke84/8A4ln/ANOufyH5T3nH/wDEs/8Ap17uiOPjDiI3mVeJYqza3ZusfbxVKxK1tkTjfB1EUbdzTA47XjT0xz5c8N05YrIYK/HTrcR8Ry23VIbMtyXJf0d7pnTRyMZjGRCGFg6rVu12rd3rI1XLUWNOznrXbccMqZn+IXU14Tspq5sTxZwMzFA/SGbwlV4YXiGS3ILD2ga/m6/U9Y8nlpoPWFOOgTocvZA4LP2LMVfF9dDl20S10lqy+ASfR5mBHVRR6yulBBedHN5A82xjo/6QMbh6ogZw1QuzvO+1kchOLV+7MSS6WxPLWLjzJIYPRbqdBzJM9b5TlsAAYaqABoALkgAA5AACDkFd4a1dpp/5a9afKIj5QiV1UzPwxl6pf089EGRz+Shu1LFKKKOjFWLbL52yF7J7MpcBFC8bNJm+vXUHktfebTm/fMV/xbf/AKVZTznrfwet4yX/AEE85638HreMl/0FJYMx0Q9B+Vw+Zp5GzZx8kNftG9kElh0ruuqzQN2iSBreTpGk6kcgVYRaV6G+mmzn8n2B+OhrMFaaw6Vll8rgInRsA2OjaObpW89VupAREQEREBERAREQEREBERAREQEREBERAREQEREBERAREQEREBERAREQVg8tGttu4ibQfnatuMH1nqJoHEH9naB/iK0Cre+VPwhcyuPpOoVn2rNa7zjj27+oniex7huI5CRtfX2DUnkCRXn8knEvwe1/ir/6qCEIpLxNwFmcZWdbv4+arWY+KN00joS0PnlZDE3RkhcS6R7G8h6/ZqVgeySfUP8ABZ0266vwxM+TCq5RT+KYjzfNX+sZ/eb/AJrJZP8Aqz+0f5rxV60gewlpADgT3e1e/IMLmEAanUcv3q3wluuMPciYn3CpxdyicRbmJj3LDIu/ssn1D/BOyyfUP8FVdBd7s8pWnT2u9HOHQi7+yyfUP8Fx2WT6h/gnQXe7PKTp7XejnDLH+rP/AHf/APlYNZwtOzT17NNPt2rE9lk+of4K10nbrq1NWJnZwVejLlFOvnMRtdKLv7LJ9Q/wTssn1D/BVXQXe7PKVp09rvRzh0LaHRr0y5rC0fo+rjsZarMMzq8s9qzXmZLK90j3WGsie2WMPfyazYdB3681rbssn1D/AAWSoMLWAEaHU8v3qXg8HNyvK5ExGXkiYzGRboztzEzn5vBl79i3YntW+q7VZmkns9QHNh6+Z5kl6kP9IRb3O0156aaryr1WK0he4hpILiR3e1fHZZPqH+CjV4e5FUxFM8pSaMRbmmJmqOcOhF39lk+of4J2WT6h/gsegu92eUsuntd6OcJv0P8ASbb4bN11XFxZMXBXEjX3+wmE1zPsLSa8okDuvfqPR02Dv15YzpT42sZ++L9mizHSCtFWFdlvtgLInyvEhm6mPQkyuG3by2A68+WHxcTm79wI126fu1/FdeRge5+rWkjaBy/eptWByw8VxE63Dn2ZIdONzvzRMxq8eXa8CLv7LJ9Q/wAE7LJ9Q/wULoLvdnlKZ09rvRzh0IpDwnwVlstX7XjaMtyuJZITJE6HRs0R2yRPa94ex4OnJwHIg9xBWW/JJxL8Htf4q/8AqrU2tg+RlQ35PJWdOUFGOHX2G1OHjn7dKjlaVae8lng25iaF52QrPq2bNxoEchYXGvBAzq3+g4gayS2Bp9n2rcKAiIgIiICIiAiIgIiICIiAiIgIiICIiAiIgIiICIiAiIgIiICIiAiIg4edAToToCdBpqdPUNfWtLv8pLBAkGrlgQSCDXqggjkQR2rkQVulUk8obhn6M4guta3bBcd2+v36bbJcZm+wbbAnGg7m7Pag2tx5xrh+NsbexFc3qNmvWfl69uzFA2CCbGOZMx0uyd26Mk7SCP0XOPIgKvFHJB9etO5pabEEU21vMNMkbHlup01036fuWxvJXqRWM7NBMwSQz4m/DLG79GSKR1dkjHfYWuI/etX5KiylbyeOikdLXxeYyWNqvfr1nZ6krWRxyEgbns5x7tAD1fLloVNwmJqs016vCP3+koWKw1N2qjPjP7f09v0iz2O+4fin0iz2O+4fisWi2daYjw5MOrLHjzZT6RZ7HfcPxX0y+wkDR3Mgdw9Z09qxK7K/6bP7zf8AMLKjSd+aojZyY16NsRTM7ebMzyhjS466DTu7+Z0Xm+kWex33D8V2ZP8Aq3ftH/mCw6mY/G3bNyKaeGaJgMHavW5qq4sp9Is9jvuH4p9Is9jvuH4rFooPWmI8OSb1ZY8ebKfSLPY77h+K9EUzXsD282kEj93Ijn9oIWDW5eGuhWl2CO3bvX7TX1DcjqNfHUrMfNEbG15qtbPO1rnkaOk0PrBUTF/am3gIirE5/FspiI3yRoPptlrZlvznsauGRZ7Hfw/FfEeSGrtzCAHaMIO4ubtB3OBA2u3Fw0GvIA689BjWHkP2BcqX1piOMcjqzD8J5si/JDc3RhLTrvJOjm8vR2tAIfqfaRp9q+/pFnsd9w/FYtE60xHGOR1Zh+E82dgmD27hqBrpz+z9i6JLzGktIdqDp6vxTF/1f73f5rHW/wCsf/eP+asMRjLlFiiuN87+SBh8Jbrv10Tujdze/wCkWex33D8U+kWex33D8Vi0Vf1piPDkn9WWPHmyn0iz2O+4fiunJZZsVeeZrdTEzcA8hrS4na3c4H0Wakan1DVeFejDYizlbtXB0zAyxmHTVmz2t3UQRRV5Z7D3NaCZJOqY/Y31u05rKjSl7P4p2bezw2erCvRlqI+GOHb47fRZDgjiDH9H9OPE5J1m9fyBfm7c9CKJ9MS3XGEQ1nTTMe6GNlVjA5w1cG7vR3bG5p3lLYEAk1sroBqfzFX1f/qlqHylMK3G3cNjmyPmbQ4cxtJs0mgklbVktwCR4HLe4R6n7SVgOhDhn6WztGs5u6GOTtlod47PVLXuDh9V8hii/wDzlWzMzOcrKIyjKF46c3WRxyFj4y9jX9XIAHs3NDtjw0kB410OhPMFdqIvHrXdCtmJcnkKX07YbHUr0J2OFHGlzjcddDmu1g00b2Zun946r13quXpz4530rZvRTX44LMLqNJrRA+GdzpHPrwB8YDo2DdqBz09a8jsbbscQZbs2RmobKGG3iKCpP1ur8pt3dpift26H9HT9I6+pZng6I4jFQR5GZrXtsvidK4giSW/k3x1derG0PkfZgGgAAMmnIBBkcjxbi60s8E+Rowz1oRYsQSWoWzQwEtDZZYi7exhL2AEjmXt07wun/wCm2J7MLf0hV7OZjXD+tGpsAbjXEf6fX7fS6vTdt56ac1iOKaEM/EWA66NsnUUs3YiDxqGTxy4ZjJNO4uaJHaa9x0I5gEMRjYDxPlbBiYZo8XiNkmnNvXy5Rkzh6g97Ktdpd3lsLBroNEGfsRVMvSbssSSVLAZIyxj71iq54Y8OBjt0ZWStbuboQ13MbmnlqFGeB+LKdPC4k5G+1s09Rpb2md0tqxs5Ofo8umn01bq/n3jU81kujdgb9LsaA1rc3e2tA0a3eIZX6Achq973H2l5PrWL6BsRBDh6tlp62xajLprDjuk2MlkbFVa79SCFo2CMaAEPOm5ziQmOCzVS/F19KzBai3OYZIJGyNa9vJ0btp9CQetp0IXOczFSjCZ7tmCrCHNb1tiVkTC950YwOeRue48g0cyeQUZz9ZlXOYm1XbslyUlnH32s0DbEMVGzdgsTNHJ8sMlVsbX94bbe3XQjTDzWrL+IMhKMXJknY6OpXpf0mpCyoyxXFieaKOw8ETSveWGUD9GsGgjRwITDBcX4y9KYKl6vNOG7zAJA2fqxyMghfo8x66ekBpzCzi1rxy3KZGq5jcBNFch1mx1vt+O307rBrBO1wm3bNwAewHR7HPadQ4hZnpGfJLToVZC6BuSv06d0xvLXNglD5bEDZWHVol6rs+5p10nOhB0KD0T8d4ORz6xytMOc413OZaDGiVx6sxNtMcGsn3HaAHBwdoBzXl6Mq/Z5c3VE1uaGrlWRQdsuWr0scbsVjJywT3JXylnWSyO0LuW8qUsx1dsAqtghFYR9UK4jYIBFpt6rqgNnV6ctummihnRHQZVl4grRvc+KHNbItzi8xxfReMMcG48y2JpEQ11O2JoJOiCS8QcUY/HujZcuQV5JQTFE+QddI1vJzo4W6ve0ajUgaDUa96iWYtVLORwWSx9+edtjKPozivk7T6L448TlZnRSUWT9lEzZY4ySWbwWN17lkuiiqyStLk3gPu5GxafZmPORrYrU0MFIHvZDXjjbEGDlua9x9JzifBx5ioY83w5cj0jmmyksE7W+iLLWYbLPiklaOT5Ytr2teeYbO8a8wEE8vW4oI3zTyxwwxNL5JZXtjjjY3mXPe8hrGj2lYHG8eYazLHBDkqj5ZjtgZ1rWmd2hO2uX6Cd2gJ0ZryB9ijvSHJLLmcZV7C7IwQ1LeQbTE9eGOW1DPUhisSiy4NmFcTEtbzAfYY/TVrCPbm7d27Xkq2+GZZ4JW7Xxvv40gj1EHrtWPB5hw0IIBBBCCcqPZbjjEVJn17GRqRTR6GWMytLoARqDY26iAEc9X6cuawdu9k6HCtiayXMyVTHWQZZHxzvD4RIyGzM+P83JL1bY5XactdylXDGDrY6rHVqsDYmDUuJ3STSO5yTzyH0pp5HEvdI4kuLiSeaCMcLwRxZy0K1q1PWtYuveAmyNy/X62e7b1kqizPIyCItDQGxbWBrWgDQBTpa/4bxMNPibIMr6MilxFOx2dvKOCSW9e64xMHKJkjmmQtHIvdI7vcSdgICIiAiIgIiICIiAiIgIiIC035V3CBv4lt+Fm6xi3OlIA1c+nKGtstGn1S2KX9kT/atyIgqH5JUThxESWuA+jrfMtIH9ZW9oXZ5U/AFTFX4slSbLGM1Nbmuxbt1dt5phe6eJp5xyziWRzxqQTBqAOetmOJeNcTjJGw379epK9nWMZM/a50e4t3N5cxq0j9yg3SFxLwRnqfYcrfo2q4lZOwddNHLFPFr1c0E0O2SGQAuGrSNQ9wOocQUCnmiaLO5A1oLuQrVZ3z0oLj48fYleXvnqFrHxl0hAMha5z2bncyIwTqSSeZJA0auOg+1W1rR1u5RrxX57N3ntVV3SFduvUmjy27/LYwOi+649Nn95v+YWW7XH9cfxTtcf1x/FZU4CzExPSx6fVjVj7sxMdHPr9Hzkv6t37W/+YLEaLM9rj+uP4p2uP64/ipGLw9q/XrdJEbMuz6o+FxF2xRq9HM7c+36MNouCdO/kpBu5a68tNdfs9qxGfvAxSQsbI500MzWSsa1zIpCwtYXjdvHMjm0Hu9SjXNG0W4zm56f2k29JV3Jypt+v9OnqnEahriCNQQ0kEfYdOatphx/9SVx/+Ew/8k1Rno+6Q8NHicZE+1HTfDQqQuqSFxfXdDAyIxEtboduzQEd40Wb/KPg/iVf/wCJ/IvjunsbjMbNNH3eqNSqduUzn2d3w8XZ4S1atRM68bY99qqscL9B6D+4fqu/BfXUv+o//C78Fan8pOE+JwffJ/Ks9hsvBchbYqzNnhcXNbIwnaSxxa4DUA8iCFZXftdibUa1zDVUxxmZiPWhop0dbqnKK4n35qcdS/6j/wDC78F8PBbycC3+9y/zVsrvSBh4ZJIZcjCyWJ7o5GEyasewlrmnRveCCP3LT/lB28Pkux5CpchtXIHx05620yR2cfPKTJvbI3Rr4HnrQ4eoyN57hpZaM0/exN+i3dsVUU1fnymYjPd+WNnjnsR8ThKbduaqaomY7PcztQLF/wBX+8rH2x+cf/eP+ayUdiFoDWua1rQGtaBo1rQNAAANAAPUvrtcf1x/FfSLti1ctU2+kj4e3Z9XI2r123dqudHPxdm36MNomizkUzXa7Xa6d+n2riayxmu52mg10AcTp9gaNT+5R50XbiNbpNnHL+0jrOvPV6Oc+HuGE0W7vI/4bq2spZyM8RfPjIGdhk1cI433OvgsSAD0XydXGWAnXaJZPWdRFOhjhzhbIC3e4rucza6rH4uW1Zrwx1IGtHX2Iqxb1j5ZS47XuI2sbryOgs1iukvhSrDFWrZPG168LGxwwQ6RQxRtGjWRxsaGsYB6gFU1xTFUxTOfitaJqmImqMvBo3ywo3HPVi1riPomuNQ0n/73e9gWwfJH4QNTHTZSZhbPkXbIQ4aOZTgc5rToebesl3u+1rIitncOcc4jJTGChkK1qYMMhjhfueI2lrXPI05NBe0a+1w9qkSwZiIiCAV+F+II7lq6zL4gS2460MjXYK45jY6hsGHYBmQQ7+kybiSddG6BvPX6y/C2duthhuZbFOrMu4+3IyvhLUEz/o+9XvsjZNJl5Gx7n1mtJLHcnHkp6iCI5nh3JTZepkYb9KKCpHLA2tJjp5pXwW3033AbLb7GiU9jYGO6vRm525si9kWCsszE2RjswCrZp1q1io+q905dUfcfDJDbFgMjbrcdq10Ttdg0I1UiXy14JIBBLdNwBGo15jUepBEqnD+UrOyZqZCgxt232usLGMnnNZ7zGLDZnR5GMWWuZHo3aI9pOp39yx3C/BmSw9aGDG3qsjQzWzBcrTdnfZOpls1DFP1lPrHEudE4yNJ5jaS4u2AiCM8P8PWG2jkMlZjt3RE+CBsELq9OlBI5r5GV4XyPe6aQxx75nuJd1TQ0MGrT9cR8Nyy2G38fZbSyDYhXdJJD2irbrtc97K92uJGOkYx73uY9j2PYZH6EhzmukiIIhNjc/ZHVzZGjRiILXvx1OV9wg8tYZrkzoa5015uik7xpppzzvEGFhvVH1J9+x4YRIx+yaKWJ7ZIbEUg/QnjkYyRrvU5gKySIIhHj+Ig3qDksa5n6PbTjphc6v2mAWezmzp+vyZrz6vT0V18FcH2cVatmG5DJj7c5tyQTVZXXzbdXrwyzvyHaurf1j4HyuHUDV0ztCAApmiCIy8O36k802ItVmQWpX2LFC9BJJA2zId009SaCRr6xkdq97CHtc5znDYXOLsZmOCcnamp5CTJ1W5SjYdLWJoTSY2vC+vYrywMpi6yV8j+vY50zpdSYGANYNQdgogwHEXDpux1nmw6vkKZ6yversA6uVzAyZvUSlwkqSjVroXE6jbo4Oa148HZOJHARuu4eL1OsxY+2+Rw9Zjry3dkT/ZufIB7CpciDH0cYG1BUsSyXgYnRTy2hEX2Q8ESGZsTGx6ODiNrWgacgFGqGCzdFgq0r9KeowbKzsnWsTW60Y1DIpJoLDBeYxu1rS4MeQ0bnvOrlNUQQXF8FXauSGSiyUMslmKKLKG3RfLJabFNJIBUdDbjjosbG/qmNLJAAwF29xc506REBERAREQEREBERAREQEREBERBrzp56PxnsaWxBoyFTdNRedBucQOsrOd6mStaBz5BzY3fqkGlE0bmOcx7XMexzmPY8Fr2PY4tex7Tza4OBBB7iCv0aVdvKg6LDJ1mdx0Wr2t3ZOuwc3sYP/tsbR+u1o0kHrADu9rtwaL6N6cNjM4qvYijngnyNOKaGZjZIpYpJ2NfHJG8Fr2OaSC0jQglS3pX6Gclw+LdmGepY4fbO01RJLP8ASVRtiQNiqOa5hZPFG9waHl+7aBr3aKM9E/8A29hf/FKH/Mxq0XlV/wDsza/94o/83Esqa6qc8p37JY1UU1ZZxu2wpsiIsWQiLiTuP7D/AJIPfRy9WxHIIZ43mJpbI0O0cw6lnpNdoQNw019fL2heFXF4z6McBkcRFeuYqpNcpYrra9gMMUrXx1N8e90Jb1zWuG4Nk3AHXlzVOW9w/YpWJxVV7VzjcjYbC02dbKd7lERRUkW4OjLpYwWGxcNPJXH1Z2OsS7X1LjmSRvncQYZWQlk/6QBDCSCHA/onTT6uR5K7AeGaeoB0s3iNQDoe1y8xr3FV2k9G2sfa6K7MxGeezfszjtieLdYv1Watan1VL4tuMsZC9Yj39XPbsTR9ZG+J+ySVz274pQHxu0I1a4Aj1hYtSXpU/wC3c1/4rf8A+alUaU63RFFMUx2REcmqqc5zERFm8Svoz4Dy+ftPr4x9WtDCwSXb1pr5GwB25teOKBjgZppCJTzIaBC7Ugloc6U+CrOAvMo2rsV+V1WKyJ4azqjQySSaMRmJ0smrgYXHcCAd4Gg057g8ij9PO/3cZ/nkFF/K/wD/AGhi/wDCan/NX1nN2uadTPZwa4tURVrZbeLTi5aCSAASSQAACSSeQAA5kk+pcKw/kvdFpe6LPZCMhjDvxkDx+m71XntP6g/2evefT9TCcGxsjyeOjz6Dx3WWGAZK8GS2tdCYGAEw1ARy9AOJdp3vc7mQ1q2ciIC4e4AEnuAJP7BzK5RBHMJxxirs4rVbbZp9S3q2xTgtc2PrS1xdGAw7NHaEjkR7QvvO8a4yjL1Fu02GX0dGOjmdqXglga5jCHOIB5A68isdkj9H5uvYHKrmmCjY79rMlWY+WjMfU3ra7bMJce8w1G+xfevb837a2Dj1PrDstehPI+x8FGTX/wDdB9VBIbuVghrm3K/bXDGyGTY86MftDTsa0u57m+r1qMcBjEy5HM38fafPZvnHvvRuBa2Hs9Z1WqY2Pia8BzIn66l2pYdNO5TRRPB/+0GZ/wDD8H//AC5hBLFGsnxzjIJ5KzppZpoSGzsp07t/s7iA4NsupQyNrv2kHa8g6EHTRezju7NWxeSsVhrYgoXJoABu/PRV5Hx+j+t6TRy9a54Kxlapj6kFTQwCFjmyA7nTukaJH2JJO+WWVznSOedS5zyT3oItgexOz8NnHyNkhvYi/YkkinklimlZkKDC/QvLWPaXSNIABB3AgaaKXcQ5+nj2NkuTshEj+riaQ58s0mhPVwQRgyTyaAnaxpOgJ05KKV8fXh4uL4dGyWcFPNYiafR6wXqcbbJZ3CSRrAwu/WFVnsXh63IHiHKy16FO7LVgo1q7reRkqPrVJ4eveYIm05htlsdcHSAgu7KxpH5sIJVheNcdbnbWjmkisvDnR17lW3QmmawavMEd2KN04aOZ2a6DvUiWuuM6meyVOWs7E4uKQgSVbIzUzpKdyL06tuLXFf1kUoa4cxroQeRKyfSa57sbXgmd1bLl3F0rzo3OAEFq3BDZia8aFrJdxh3ciBMe5B2ydI2IBdtsyyxsc5r7Veles0mFhIfuvV4HV2hpBBO/Ruh10Uno24p4o5oJGTQysbJFLE9skcjHDVr2PaSHtIIIIX1WgZGxscbWxxxtaxjGNDGMY0ANYxrRo1oAAACiPBELK2TzdKuA2pHJSttjbyjgt3o5n3IY2jlGHdXBYLR+tce79ZBMkREBERAREQEREBERAREQEREBERAREQEREBERAQhEQRmr0fYKGZliLEY2KeORsscsdOBj45Wu3NkYWsG1wcNQQsxm8RVvQur3K8NqBxa50M8bZYnOY4OYSx4IJDgCPtC9yIIl+TLh34Hi/A1/5E/Jlw78Dxfga/8AIpaiCJfky4d+B4vwNf8AkXB6MeHfgeL8DX/kUuRB0PqRGIwGNhhMZiMRaOrMRbsMe3u2beWnsUZ/Jlw78Dxfga/8ilqIIl+TLh34Hi/A1/5E/Jlw78Dxfga/8ilqIIl+TLh34Hi/A1/5FIMJiKtGFtenXhqwNLnNhgjbFG0vcXPIYwAAlxJP2le1EEXu9HmBnlkmmw+Nlmle6SWWSnA58kj3Fz3vc5urnEkkk+1dX5MuHfgeL8DX/kUtRBEvyZcO/A8X4Gv/ACJ+TLh34Hi/A1/5FLUQYjh3hfHY4yGhRq0uu2db2aCOHrOr39Xv6sDdt3v017tx9q6M/wAGYnISie9jaVuYMbEJbFaKWQRtc5zWBz2k7QXvOn+8fas8iCInox4d+B4vwVf+RS1jQ0BrQAAAAANAAOQAA7guUQEREBERBiuLMIzIVJar3uiLjHJFOwAyV7EEjJq1iMO5b45Y43gHkduh71xwphRQrmLrXTyyTT2bFh7WtfPYsSulkkc1vJo9INa0cmtYxo5ALLIgx2fp2po2tq3OxPDw50nUR2NzNCCzZLyHMg6j6v2qMV+DsnHasW25x3X2Yq8MpONqlpZVM7oQG66Ag2ZdT69R7FOEQeXGV5WQsjsTdplAIkmMTIus1JPOJnotGhA0HsUUrcJZGiOoxGVhrUQT1dO9jnZAVGE69TSljuQPirt57Y5OsDBo1ujWhomqIITV4DkhvRZGLJTdsMT4b080EEz7sb5YJer7mtrRMEAYxkYAaHuPNznOdluJOGu0zR3K1iSjkIYzCy1ExkjZYC7ea1uvJ6NmvuJcB6LmEuLHN3O1kCIIc7h3NWGmK9nGNhcNHDEY442d7f1mm1YuWXxaj9aHq3j1OB0IkmVxcFutLUsRiavNGYpGPLjuYRp+nruD+4hwO4EAg6817UQQ1nD2ciAhgz0RrAbWvuYoWsk1ncB2xluOGR4Gmj5IHE6au3EkrO8LYGHHQuiidJI6SR89ixO/rLFqxJp1k88mgDnkNaAAA1rWMa0Na1rRlUQEREBERAREQEREBERAREQEREBERAREQEREBERAREQEREBERAREQEREBERAREQEREBERAREQEREBERAREQEREBERAREQEREBERAREQEREBERAREQEREBERAREQEREBERARUA89Xir4fw/4XI/MU89Xir4fw/wCFyPzFBf8ARUA89Xir4fw/4XI/MU89Xir4fw/4XI/MUF/0VAPPV4q+H8P+FyPzFPPV4q+H8P8Ahcj8xQX/AEVAPPV4q+H8P+FyPzFPPV4q+H8P+FyPzFBf9FQDz1eKvh/D/hcj8xTz1eKvh/D/AIXI/MUF/wBFQDz1eKvh/D/hcj8xTz1eKvh/D/hcj8xQX/RUA89Xir4fw/4XI/MU89Xir4fw/wCFyPzFBf8ARUA89Xir4fw/4XI/MU89Xir4fw/4XI/MUF/0VAPPV4q+H8P+FyPzFPPV4q+H8P8Ahcj8xQX/AEVAPPV4q+H8P+FyPzFPPV4q+H8P+FyPzFBf9FQDz1eKvh/D/hcj8xTz1eKvh/D/AIXI/MUF/wBFQDz1eKvh/D/hcj8xTz1eKvh/D/hcj8xQX/RUA89Xir4fw/4XI/MU89Xir4fw/wCFyPzFBf8ARUA89Xir4fw/4XI/MU89Xir4fw/4XI/MUF/0VAPPV4q+H8P+FyPzFPPV4q+H8P8Ahcj8xQX/AEVAPPV4q+H8P+FyPzFPPV4q+H8P+FyPzFBf9FQDz1eKvh/D/hcj8xTz1eKvh/D/AIXI/MUF/wBFQDz1eKvh/D/hcj8xTz1eKvh/D/hcj8xQX/RUA89Xir4fw/4XI/MU89Xir4fw/wCFyPzFBf8ARUA89Xir4fw/4XI/MU89Xir4fw/4XI/MUF/0VAPPV4q+H8P+FyPzFPPV4q+H8P8Ahcj8xQX/AEVAPPV4q+H8P+FyPzFPPV4q+H8P+FyPzFBf9FQDz1eKvh/D/hcj8xTz1eKvh/D/AIXI/MUF/wBFQDz1eKvh/D/hcj8xTz1eKvh/D/hcj8xQX/RUA89Xir4fw/4XI/MU89Xir4fw/wCFyPzFBf8ARUA89Xir4fw/4XI/MU89Xir4fw/4XI/MUF/0VAPPV4q+H8P+FyPzFPPV4q+H8P8Ahcj8xQX/AEVAPPV4q+H8P+FyPzFPPV4q+H8P+FyPzFBf9FQDz1eKvh/D/hcj8xTz1eKvh/D/AIXI/MUF/wBFQDz1eKvh/D/hcj8xTz1eKvh/D/hcj8xQVmREQEREBERAREQEREBERAREQEREBERAREQEREBERAREQEREBERAREQEREBERAREQEREBERAREQEREBERAREQEREBERAREQEREBERAREQEREBERAREQEREBERAREQEREBERAREQEREBERAREQEREBERAREQEREBERAREQEREBERAREQEREBERAREQEREBERAREQEREBERAREQEREBERAREQEREBERAREQEREBERAREQEREBERAREQEREBERAREQEREBERAREQEREBERAREQEREBERAREQEREBERAREQEREBERB//2Q==\n",
         "text/html": "\n        <iframe\n            width=\"600\"\n            height=\"245\"\n            src=\"https://www.youtube.com/embed/1Y9r-8wBbxM?rel=0&loop=1\"\n            frameborder=\"0\"\n            allowfullscreen\n            \n        ></iframe>\n        ",
         "text/plain": "<IPython.lib.display.YouTubeVideo at 0x7b45a408ec20>"
        },
        "metadata": {},
        "output_type": "display_data"
       }
      ]
     }
    },
    "521ea1bb91e948dd9d1c437af68c53a1": {
     "model_module": "@jupyter-widgets/controls",
     "model_module_version": "1.5.0",
     "model_name": "SliderStyleModel",
     "state": {
      "_model_module": "@jupyter-widgets/controls",
      "_model_module_version": "1.5.0",
      "_model_name": "SliderStyleModel",
      "_view_count": null,
      "_view_module": "@jupyter-widgets/base",
      "_view_module_version": "1.2.0",
      "_view_name": "StyleView",
      "description_width": "",
      "handle_color": null
     }
    },
    "57287744d622432ba63392792ba4a06f": {
     "model_module": "@jupyter-widgets/base",
     "model_module_version": "1.2.0",
     "model_name": "LayoutModel",
     "state": {
      "_model_module": "@jupyter-widgets/base",
      "_model_module_version": "1.2.0",
      "_model_name": "LayoutModel",
      "_view_count": null,
      "_view_module": "@jupyter-widgets/base",
      "_view_module_version": "1.2.0",
      "_view_name": "LayoutView",
      "align_content": null,
      "align_items": null,
      "align_self": null,
      "border": null,
      "bottom": null,
      "display": null,
      "flex": null,
      "flex_flow": null,
      "grid_area": null,
      "grid_auto_columns": null,
      "grid_auto_flow": null,
      "grid_auto_rows": null,
      "grid_column": null,
      "grid_gap": null,
      "grid_row": null,
      "grid_template_areas": null,
      "grid_template_columns": null,
      "grid_template_rows": null,
      "height": null,
      "justify_content": null,
      "justify_items": null,
      "left": null,
      "margin": null,
      "max_height": null,
      "max_width": null,
      "min_height": null,
      "min_width": null,
      "object_fit": null,
      "object_position": null,
      "order": null,
      "overflow": null,
      "overflow_x": null,
      "overflow_y": null,
      "padding": null,
      "right": null,
      "top": null,
      "visibility": null,
      "width": null
     }
    },
    "57dc233874834aeda77be9593452c07b": {
     "model_module": "@jupyter-widgets/controls",
     "model_module_version": "1.5.0",
     "model_name": "VBoxModel",
     "state": {
      "_dom_classes": [
       "widget-interact"
      ],
      "_model_module": "@jupyter-widgets/controls",
      "_model_module_version": "1.5.0",
      "_model_name": "VBoxModel",
      "_view_count": null,
      "_view_module": "@jupyter-widgets/controls",
      "_view_module_version": "1.5.0",
      "_view_name": "VBoxView",
      "box_style": "",
      "children": [
       "IPY_MODEL_9ba66218afe148d9b7592142c74561da",
       "IPY_MODEL_7c001e5f9af04d9b85b764203a6e516d"
      ],
      "layout": "IPY_MODEL_72b7eac8debd4540bc42522ca0567061"
     }
    },
    "598db944a18e4465bc29809ed664cf8b": {
     "model_module": "@jupyter-widgets/controls",
     "model_module_version": "1.5.0",
     "model_name": "VBoxModel",
     "state": {
      "_dom_classes": [
       "widget-interact"
      ],
      "_model_module": "@jupyter-widgets/controls",
      "_model_module_version": "1.5.0",
      "_model_name": "VBoxModel",
      "_view_count": null,
      "_view_module": "@jupyter-widgets/controls",
      "_view_module_version": "1.5.0",
      "_view_name": "VBoxView",
      "box_style": "",
      "children": [
       "IPY_MODEL_3a3573ce5f7447e08ed39fd3d5f3bd42",
       "IPY_MODEL_bc7c77663d3f4d27a2a3807bb1e454a2"
      ],
      "layout": "IPY_MODEL_7d907791ee42463f9e4632ef37095d55"
     }
    },
    "59b33a4eced747f58f60fd722a528c9c": {
     "model_module": "@jupyter-widgets/output",
     "model_module_version": "1.0.0",
     "model_name": "OutputModel",
     "state": {
      "_dom_classes": [],
      "_model_module": "@jupyter-widgets/output",
      "_model_module_version": "1.0.0",
      "_model_name": "OutputModel",
      "_view_count": null,
      "_view_module": "@jupyter-widgets/output",
      "_view_module_version": "1.0.0",
      "_view_name": "OutputView",
      "layout": "IPY_MODEL_e3c5913342834e1ea6b7983a52f084c3",
      "msg_id": "",
      "outputs": [
       {
        "data": {
         "image/jpeg": "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\n",
         "text/html": "\n        <iframe\n            width=\"600\"\n            height=\"267\"\n            src=\"https://www.youtube.com/embed/DoflPsdLWD8?rel=0&loop=1\"\n            frameborder=\"0\"\n            allowfullscreen\n            \n        ></iframe>\n        ",
         "text/plain": "<IPython.lib.display.YouTubeVideo at 0x7b45a40ee4d0>"
        },
        "metadata": {},
        "output_type": "display_data"
       }
      ]
     }
    },
    "5f4d68726bae4671a783b2ccbb5bba6f": {
     "model_module": "@jupyter-widgets/base",
     "model_module_version": "1.2.0",
     "model_name": "LayoutModel",
     "state": {
      "_model_module": "@jupyter-widgets/base",
      "_model_module_version": "1.2.0",
      "_model_name": "LayoutModel",
      "_view_count": null,
      "_view_module": "@jupyter-widgets/base",
      "_view_module_version": "1.2.0",
      "_view_name": "LayoutView",
      "align_content": null,
      "align_items": null,
      "align_self": null,
      "border": null,
      "bottom": null,
      "display": null,
      "flex": null,
      "flex_flow": null,
      "grid_area": null,
      "grid_auto_columns": null,
      "grid_auto_flow": null,
      "grid_auto_rows": null,
      "grid_column": null,
      "grid_gap": null,
      "grid_row": null,
      "grid_template_areas": null,
      "grid_template_columns": null,
      "grid_template_rows": null,
      "height": null,
      "justify_content": null,
      "justify_items": null,
      "left": null,
      "margin": null,
      "max_height": null,
      "max_width": null,
      "min_height": null,
      "min_width": null,
      "object_fit": null,
      "object_position": null,
      "order": null,
      "overflow": null,
      "overflow_x": null,
      "overflow_y": null,
      "padding": null,
      "right": null,
      "top": null,
      "visibility": null,
      "width": null
     }
    },
    "692f127657774cc28c936fefaec44bf2": {
     "model_module": "@jupyter-widgets/controls",
     "model_module_version": "1.5.0",
     "model_name": "IntSliderModel",
     "state": {
      "_dom_classes": [],
      "_model_module": "@jupyter-widgets/controls",
      "_model_module_version": "1.5.0",
      "_model_name": "IntSliderModel",
      "_view_count": null,
      "_view_module": "@jupyter-widgets/controls",
      "_view_module_version": "1.5.0",
      "_view_name": "IntSliderView",
      "continuous_update": false,
      "description": "resize",
      "description_tooltip": null,
      "disabled": false,
      "layout": "IPY_MODEL_57287744d622432ba63392792ba4a06f",
      "max": 1100,
      "min": 300,
      "orientation": "horizontal",
      "readout": false,
      "readout_format": "d",
      "step": 50,
      "style": "IPY_MODEL_521ea1bb91e948dd9d1c437af68c53a1",
      "value": 600
     }
    },
    "72b7eac8debd4540bc42522ca0567061": {
     "model_module": "@jupyter-widgets/base",
     "model_module_version": "1.2.0",
     "model_name": "LayoutModel",
     "state": {
      "_model_module": "@jupyter-widgets/base",
      "_model_module_version": "1.2.0",
      "_model_name": "LayoutModel",
      "_view_count": null,
      "_view_module": "@jupyter-widgets/base",
      "_view_module_version": "1.2.0",
      "_view_name": "LayoutView",
      "align_content": null,
      "align_items": null,
      "align_self": null,
      "border": null,
      "bottom": null,
      "display": null,
      "flex": null,
      "flex_flow": null,
      "grid_area": null,
      "grid_auto_columns": null,
      "grid_auto_flow": null,
      "grid_auto_rows": null,
      "grid_column": null,
      "grid_gap": null,
      "grid_row": null,
      "grid_template_areas": null,
      "grid_template_columns": null,
      "grid_template_rows": null,
      "height": null,
      "justify_content": null,
      "justify_items": null,
      "left": null,
      "margin": null,
      "max_height": null,
      "max_width": null,
      "min_height": null,
      "min_width": null,
      "object_fit": null,
      "object_position": null,
      "order": null,
      "overflow": null,
      "overflow_x": null,
      "overflow_y": null,
      "padding": null,
      "right": null,
      "top": null,
      "visibility": null,
      "width": null
     }
    },
    "74b1298fa80447d98040c4a3d9c1d77b": {
     "model_module": "@jupyter-widgets/controls",
     "model_module_version": "1.5.0",
     "model_name": "SliderStyleModel",
     "state": {
      "_model_module": "@jupyter-widgets/controls",
      "_model_module_version": "1.5.0",
      "_model_name": "SliderStyleModel",
      "_view_count": null,
      "_view_module": "@jupyter-widgets/base",
      "_view_module_version": "1.2.0",
      "_view_name": "StyleView",
      "description_width": "",
      "handle_color": null
     }
    },
    "797679b302db4b62bc57dadb4732f2d7": {
     "model_module": "@jupyter-widgets/output",
     "model_module_version": "1.0.0",
     "model_name": "OutputModel",
     "state": {
      "_dom_classes": [],
      "_model_module": "@jupyter-widgets/output",
      "_model_module_version": "1.0.0",
      "_model_name": "OutputModel",
      "_view_count": null,
      "_view_module": "@jupyter-widgets/output",
      "_view_module_version": "1.0.0",
      "_view_name": "OutputView",
      "layout": "IPY_MODEL_41ae1e35720f4351b028a0254f719093",
      "msg_id": "",
      "outputs": [
       {
        "data": {
         "image/jpeg": "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\n",
         "text/html": "\n        <iframe\n            width=\"600\"\n            height=\"283\"\n            src=\"https://www.youtube.com/embed/IJXz53jT4iY?rel=0&loop=1\"\n            frameborder=\"0\"\n            allowfullscreen\n            \n        ></iframe>\n        ",
         "text/plain": "<IPython.lib.display.YouTubeVideo at 0x7b45a408fa90>"
        },
        "metadata": {},
        "output_type": "display_data"
       }
      ]
     }
    },
    "79b24f3587da4fe686dafc71b1c447d3": {
     "model_module": "@jupyter-widgets/base",
     "model_module_version": "1.2.0",
     "model_name": "LayoutModel",
     "state": {
      "_model_module": "@jupyter-widgets/base",
      "_model_module_version": "1.2.0",
      "_model_name": "LayoutModel",
      "_view_count": null,
      "_view_module": "@jupyter-widgets/base",
      "_view_module_version": "1.2.0",
      "_view_name": "LayoutView",
      "align_content": null,
      "align_items": null,
      "align_self": null,
      "border": null,
      "bottom": null,
      "display": null,
      "flex": null,
      "flex_flow": null,
      "grid_area": null,
      "grid_auto_columns": null,
      "grid_auto_flow": null,
      "grid_auto_rows": null,
      "grid_column": null,
      "grid_gap": null,
      "grid_row": null,
      "grid_template_areas": null,
      "grid_template_columns": null,
      "grid_template_rows": null,
      "height": null,
      "justify_content": null,
      "justify_items": null,
      "left": null,
      "margin": null,
      "max_height": null,
      "max_width": null,
      "min_height": null,
      "min_width": null,
      "object_fit": null,
      "object_position": null,
      "order": null,
      "overflow": null,
      "overflow_x": null,
      "overflow_y": null,
      "padding": null,
      "right": null,
      "top": null,
      "visibility": null,
      "width": null
     }
    },
    "7c001e5f9af04d9b85b764203a6e516d": {
     "model_module": "@jupyter-widgets/output",
     "model_module_version": "1.0.0",
     "model_name": "OutputModel",
     "state": {
      "_dom_classes": [],
      "_model_module": "@jupyter-widgets/output",
      "_model_module_version": "1.0.0",
      "_model_name": "OutputModel",
      "_view_count": null,
      "_view_module": "@jupyter-widgets/output",
      "_view_module_version": "1.0.0",
      "_view_name": "OutputView",
      "layout": "IPY_MODEL_a19a3f59dbdd497b9a9c9ebb325151b6",
      "msg_id": "",
      "outputs": [
       {
        "data": {
         "image/jpeg": "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\n",
         "text/html": "\n        <iframe\n            width=\"600\"\n            height=\"229\"\n            src=\"https://www.youtube.com/embed/BShjj8SBHrc?rel=0&loop=1\"\n            frameborder=\"0\"\n            allowfullscreen\n            \n        ></iframe>\n        ",
         "text/plain": "<IPython.lib.display.YouTubeVideo at 0x7b458a7ae800>"
        },
        "metadata": {},
        "output_type": "display_data"
       }
      ]
     }
    },
    "7d907791ee42463f9e4632ef37095d55": {
     "model_module": "@jupyter-widgets/base",
     "model_module_version": "1.2.0",
     "model_name": "LayoutModel",
     "state": {
      "_model_module": "@jupyter-widgets/base",
      "_model_module_version": "1.2.0",
      "_model_name": "LayoutModel",
      "_view_count": null,
      "_view_module": "@jupyter-widgets/base",
      "_view_module_version": "1.2.0",
      "_view_name": "LayoutView",
      "align_content": null,
      "align_items": null,
      "align_self": null,
      "border": null,
      "bottom": null,
      "display": null,
      "flex": null,
      "flex_flow": null,
      "grid_area": null,
      "grid_auto_columns": null,
      "grid_auto_flow": null,
      "grid_auto_rows": null,
      "grid_column": null,
      "grid_gap": null,
      "grid_row": null,
      "grid_template_areas": null,
      "grid_template_columns": null,
      "grid_template_rows": null,
      "height": null,
      "justify_content": null,
      "justify_items": null,
      "left": null,
      "margin": null,
      "max_height": null,
      "max_width": null,
      "min_height": null,
      "min_width": null,
      "object_fit": null,
      "object_position": null,
      "order": null,
      "overflow": null,
      "overflow_x": null,
      "overflow_y": null,
      "padding": null,
      "right": null,
      "top": null,
      "visibility": null,
      "width": null
     }
    },
    "8d0d17c7ba8540a9ae3215839ef31c1d": {
     "model_module": "@jupyter-widgets/controls",
     "model_module_version": "1.5.0",
     "model_name": "IntSliderModel",
     "state": {
      "_dom_classes": [],
      "_model_module": "@jupyter-widgets/controls",
      "_model_module_version": "1.5.0",
      "_model_name": "IntSliderModel",
      "_view_count": null,
      "_view_module": "@jupyter-widgets/controls",
      "_view_module_version": "1.5.0",
      "_view_name": "IntSliderView",
      "continuous_update": false,
      "description": "resize",
      "description_tooltip": null,
      "disabled": false,
      "layout": "IPY_MODEL_a563d1946a5941f090b63d3d9041af7c",
      "max": 1100,
      "min": 300,
      "orientation": "horizontal",
      "readout": false,
      "readout_format": "d",
      "step": 50,
      "style": "IPY_MODEL_ad715e30bc9a45a297ff9606885b3004",
      "value": 600
     }
    },
    "8f25580a755d44d9b2a0b99a8bfe0457": {
     "model_module": "@jupyter-widgets/base",
     "model_module_version": "1.2.0",
     "model_name": "LayoutModel",
     "state": {
      "_model_module": "@jupyter-widgets/base",
      "_model_module_version": "1.2.0",
      "_model_name": "LayoutModel",
      "_view_count": null,
      "_view_module": "@jupyter-widgets/base",
      "_view_module_version": "1.2.0",
      "_view_name": "LayoutView",
      "align_content": null,
      "align_items": null,
      "align_self": null,
      "border": null,
      "bottom": null,
      "display": null,
      "flex": null,
      "flex_flow": null,
      "grid_area": null,
      "grid_auto_columns": null,
      "grid_auto_flow": null,
      "grid_auto_rows": null,
      "grid_column": null,
      "grid_gap": null,
      "grid_row": null,
      "grid_template_areas": null,
      "grid_template_columns": null,
      "grid_template_rows": null,
      "height": null,
      "justify_content": null,
      "justify_items": null,
      "left": null,
      "margin": null,
      "max_height": null,
      "max_width": null,
      "min_height": null,
      "min_width": null,
      "object_fit": null,
      "object_position": null,
      "order": null,
      "overflow": null,
      "overflow_x": null,
      "overflow_y": null,
      "padding": null,
      "right": null,
      "top": null,
      "visibility": null,
      "width": null
     }
    },
    "939189bc14264d8d89df19f92bf41967": {
     "model_module": "@jupyter-widgets/controls",
     "model_module_version": "1.5.0",
     "model_name": "VBoxModel",
     "state": {
      "_dom_classes": [
       "widget-interact"
      ],
      "_model_module": "@jupyter-widgets/controls",
      "_model_module_version": "1.5.0",
      "_model_name": "VBoxModel",
      "_view_count": null,
      "_view_module": "@jupyter-widgets/controls",
      "_view_module_version": "1.5.0",
      "_view_name": "VBoxView",
      "box_style": "",
      "children": [
       "IPY_MODEL_e9b003add7774fb4918d93eba9d3e1a3",
       "IPY_MODEL_4f989d7682604ec98c9468bf7c142d73"
      ],
      "layout": "IPY_MODEL_9b541fadfdb74a5c89b6a9b9256779b2"
     }
    },
    "94005475197b4b8c9f779e92335094fb": {
     "model_module": "@jupyter-widgets/output",
     "model_module_version": "1.0.0",
     "model_name": "OutputModel",
     "state": {
      "_dom_classes": [],
      "_model_module": "@jupyter-widgets/output",
      "_model_module_version": "1.0.0",
      "_model_name": "OutputModel",
      "_view_count": null,
      "_view_module": "@jupyter-widgets/output",
      "_view_module_version": "1.0.0",
      "_view_name": "OutputView",
      "layout": "IPY_MODEL_aec68e599de84a1c89ab304e8255d421",
      "msg_id": "",
      "outputs": [
       {
        "data": {
         "image/jpeg": "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\n",
         "text/html": "\n        <iframe\n            width=\"600\"\n            height=\"267\"\n            src=\"https://www.youtube.com/embed/5IH1Bw0ohqE?rel=0&loop=1\"\n            frameborder=\"0\"\n            allowfullscreen\n            \n        ></iframe>\n        ",
         "text/plain": "<IPython.lib.display.YouTubeVideo at 0x7b458a7adf90>"
        },
        "metadata": {},
        "output_type": "display_data"
       }
      ]
     }
    },
    "94e544a3f65b499bbe1c4052edbaa234": {
     "model_module": "@jupyter-widgets/controls",
     "model_module_version": "1.5.0",
     "model_name": "SliderStyleModel",
     "state": {
      "_model_module": "@jupyter-widgets/controls",
      "_model_module_version": "1.5.0",
      "_model_name": "SliderStyleModel",
      "_view_count": null,
      "_view_module": "@jupyter-widgets/base",
      "_view_module_version": "1.2.0",
      "_view_name": "StyleView",
      "description_width": "",
      "handle_color": null
     }
    },
    "98ddab800a174c14828f27fcfc7c5876": {
     "model_module": "@jupyter-widgets/controls",
     "model_module_version": "1.5.0",
     "model_name": "VBoxModel",
     "state": {
      "_dom_classes": [
       "widget-interact"
      ],
      "_model_module": "@jupyter-widgets/controls",
      "_model_module_version": "1.5.0",
      "_model_name": "VBoxModel",
      "_view_count": null,
      "_view_module": "@jupyter-widgets/controls",
      "_view_module_version": "1.5.0",
      "_view_name": "VBoxView",
      "box_style": "",
      "children": [
       "IPY_MODEL_eb7d2c9fdc4f4953afb63e60e50b2263",
       "IPY_MODEL_fd403965538b48249c1172573c36aa5e"
      ],
      "layout": "IPY_MODEL_b649953818144bd2b7d2e11e3afb0524"
     }
    },
    "9a184b1b5fe0407d937c2744c558edd8": {
     "model_module": "@jupyter-widgets/base",
     "model_module_version": "1.2.0",
     "model_name": "LayoutModel",
     "state": {
      "_model_module": "@jupyter-widgets/base",
      "_model_module_version": "1.2.0",
      "_model_name": "LayoutModel",
      "_view_count": null,
      "_view_module": "@jupyter-widgets/base",
      "_view_module_version": "1.2.0",
      "_view_name": "LayoutView",
      "align_content": null,
      "align_items": null,
      "align_self": null,
      "border": null,
      "bottom": null,
      "display": null,
      "flex": null,
      "flex_flow": null,
      "grid_area": null,
      "grid_auto_columns": null,
      "grid_auto_flow": null,
      "grid_auto_rows": null,
      "grid_column": null,
      "grid_gap": null,
      "grid_row": null,
      "grid_template_areas": null,
      "grid_template_columns": null,
      "grid_template_rows": null,
      "height": null,
      "justify_content": null,
      "justify_items": null,
      "left": null,
      "margin": null,
      "max_height": null,
      "max_width": null,
      "min_height": null,
      "min_width": null,
      "object_fit": null,
      "object_position": null,
      "order": null,
      "overflow": null,
      "overflow_x": null,
      "overflow_y": null,
      "padding": null,
      "right": null,
      "top": null,
      "visibility": null,
      "width": null
     }
    },
    "9b541fadfdb74a5c89b6a9b9256779b2": {
     "model_module": "@jupyter-widgets/base",
     "model_module_version": "1.2.0",
     "model_name": "LayoutModel",
     "state": {
      "_model_module": "@jupyter-widgets/base",
      "_model_module_version": "1.2.0",
      "_model_name": "LayoutModel",
      "_view_count": null,
      "_view_module": "@jupyter-widgets/base",
      "_view_module_version": "1.2.0",
      "_view_name": "LayoutView",
      "align_content": null,
      "align_items": null,
      "align_self": null,
      "border": null,
      "bottom": null,
      "display": null,
      "flex": null,
      "flex_flow": null,
      "grid_area": null,
      "grid_auto_columns": null,
      "grid_auto_flow": null,
      "grid_auto_rows": null,
      "grid_column": null,
      "grid_gap": null,
      "grid_row": null,
      "grid_template_areas": null,
      "grid_template_columns": null,
      "grid_template_rows": null,
      "height": null,
      "justify_content": null,
      "justify_items": null,
      "left": null,
      "margin": null,
      "max_height": null,
      "max_width": null,
      "min_height": null,
      "min_width": null,
      "object_fit": null,
      "object_position": null,
      "order": null,
      "overflow": null,
      "overflow_x": null,
      "overflow_y": null,
      "padding": null,
      "right": null,
      "top": null,
      "visibility": null,
      "width": null
     }
    },
    "9ba66218afe148d9b7592142c74561da": {
     "model_module": "@jupyter-widgets/controls",
     "model_module_version": "1.5.0",
     "model_name": "IntSliderModel",
     "state": {
      "_dom_classes": [],
      "_model_module": "@jupyter-widgets/controls",
      "_model_module_version": "1.5.0",
      "_model_name": "IntSliderModel",
      "_view_count": null,
      "_view_module": "@jupyter-widgets/controls",
      "_view_module_version": "1.5.0",
      "_view_name": "IntSliderView",
      "continuous_update": false,
      "description": "resize",
      "description_tooltip": null,
      "disabled": false,
      "layout": "IPY_MODEL_79b24f3587da4fe686dafc71b1c447d3",
      "max": 1100,
      "min": 300,
      "orientation": "horizontal",
      "readout": false,
      "readout_format": "d",
      "step": 50,
      "style": "IPY_MODEL_74b1298fa80447d98040c4a3d9c1d77b",
      "value": 600
     }
    },
    "9e7e94f0b94d4ffd9679f9f1271ce57e": {
     "model_module": "@jupyter-widgets/base",
     "model_module_version": "1.2.0",
     "model_name": "LayoutModel",
     "state": {
      "_model_module": "@jupyter-widgets/base",
      "_model_module_version": "1.2.0",
      "_model_name": "LayoutModel",
      "_view_count": null,
      "_view_module": "@jupyter-widgets/base",
      "_view_module_version": "1.2.0",
      "_view_name": "LayoutView",
      "align_content": null,
      "align_items": null,
      "align_self": null,
      "border": null,
      "bottom": null,
      "display": null,
      "flex": null,
      "flex_flow": null,
      "grid_area": null,
      "grid_auto_columns": null,
      "grid_auto_flow": null,
      "grid_auto_rows": null,
      "grid_column": null,
      "grid_gap": null,
      "grid_row": null,
      "grid_template_areas": null,
      "grid_template_columns": null,
      "grid_template_rows": null,
      "height": null,
      "justify_content": null,
      "justify_items": null,
      "left": null,
      "margin": null,
      "max_height": null,
      "max_width": null,
      "min_height": null,
      "min_width": null,
      "object_fit": null,
      "object_position": null,
      "order": null,
      "overflow": null,
      "overflow_x": null,
      "overflow_y": null,
      "padding": null,
      "right": null,
      "top": null,
      "visibility": null,
      "width": null
     }
    },
    "a19a3f59dbdd497b9a9c9ebb325151b6": {
     "model_module": "@jupyter-widgets/base",
     "model_module_version": "1.2.0",
     "model_name": "LayoutModel",
     "state": {
      "_model_module": "@jupyter-widgets/base",
      "_model_module_version": "1.2.0",
      "_model_name": "LayoutModel",
      "_view_count": null,
      "_view_module": "@jupyter-widgets/base",
      "_view_module_version": "1.2.0",
      "_view_name": "LayoutView",
      "align_content": null,
      "align_items": null,
      "align_self": null,
      "border": null,
      "bottom": null,
      "display": null,
      "flex": null,
      "flex_flow": null,
      "grid_area": null,
      "grid_auto_columns": null,
      "grid_auto_flow": null,
      "grid_auto_rows": null,
      "grid_column": null,
      "grid_gap": null,
      "grid_row": null,
      "grid_template_areas": null,
      "grid_template_columns": null,
      "grid_template_rows": null,
      "height": null,
      "justify_content": null,
      "justify_items": null,
      "left": null,
      "margin": null,
      "max_height": null,
      "max_width": null,
      "min_height": null,
      "min_width": null,
      "object_fit": null,
      "object_position": null,
      "order": null,
      "overflow": null,
      "overflow_x": null,
      "overflow_y": null,
      "padding": null,
      "right": null,
      "top": null,
      "visibility": null,
      "width": null
     }
    },
    "a563d1946a5941f090b63d3d9041af7c": {
     "model_module": "@jupyter-widgets/base",
     "model_module_version": "1.2.0",
     "model_name": "LayoutModel",
     "state": {
      "_model_module": "@jupyter-widgets/base",
      "_model_module_version": "1.2.0",
      "_model_name": "LayoutModel",
      "_view_count": null,
      "_view_module": "@jupyter-widgets/base",
      "_view_module_version": "1.2.0",
      "_view_name": "LayoutView",
      "align_content": null,
      "align_items": null,
      "align_self": null,
      "border": null,
      "bottom": null,
      "display": null,
      "flex": null,
      "flex_flow": null,
      "grid_area": null,
      "grid_auto_columns": null,
      "grid_auto_flow": null,
      "grid_auto_rows": null,
      "grid_column": null,
      "grid_gap": null,
      "grid_row": null,
      "grid_template_areas": null,
      "grid_template_columns": null,
      "grid_template_rows": null,
      "height": null,
      "justify_content": null,
      "justify_items": null,
      "left": null,
      "margin": null,
      "max_height": null,
      "max_width": null,
      "min_height": null,
      "min_width": null,
      "object_fit": null,
      "object_position": null,
      "order": null,
      "overflow": null,
      "overflow_x": null,
      "overflow_y": null,
      "padding": null,
      "right": null,
      "top": null,
      "visibility": null,
      "width": null
     }
    },
    "a9c8ac6d32a04783a936fcd9793a563d": {
     "model_module": "@jupyter-widgets/base",
     "model_module_version": "1.2.0",
     "model_name": "LayoutModel",
     "state": {
      "_model_module": "@jupyter-widgets/base",
      "_model_module_version": "1.2.0",
      "_model_name": "LayoutModel",
      "_view_count": null,
      "_view_module": "@jupyter-widgets/base",
      "_view_module_version": "1.2.0",
      "_view_name": "LayoutView",
      "align_content": null,
      "align_items": null,
      "align_self": null,
      "border": null,
      "bottom": null,
      "display": null,
      "flex": null,
      "flex_flow": null,
      "grid_area": null,
      "grid_auto_columns": null,
      "grid_auto_flow": null,
      "grid_auto_rows": null,
      "grid_column": null,
      "grid_gap": null,
      "grid_row": null,
      "grid_template_areas": null,
      "grid_template_columns": null,
      "grid_template_rows": null,
      "height": null,
      "justify_content": null,
      "justify_items": null,
      "left": null,
      "margin": null,
      "max_height": null,
      "max_width": null,
      "min_height": null,
      "min_width": null,
      "object_fit": null,
      "object_position": null,
      "order": null,
      "overflow": null,
      "overflow_x": null,
      "overflow_y": null,
      "padding": null,
      "right": null,
      "top": null,
      "visibility": null,
      "width": null
     }
    },
    "ad715e30bc9a45a297ff9606885b3004": {
     "model_module": "@jupyter-widgets/controls",
     "model_module_version": "1.5.0",
     "model_name": "SliderStyleModel",
     "state": {
      "_model_module": "@jupyter-widgets/controls",
      "_model_module_version": "1.5.0",
      "_model_name": "SliderStyleModel",
      "_view_count": null,
      "_view_module": "@jupyter-widgets/base",
      "_view_module_version": "1.2.0",
      "_view_name": "StyleView",
      "description_width": "",
      "handle_color": null
     }
    },
    "ae66fa430df84743bbd3540be212fa18": {
     "model_module": "@jupyter-widgets/controls",
     "model_module_version": "1.5.0",
     "model_name": "SliderStyleModel",
     "state": {
      "_model_module": "@jupyter-widgets/controls",
      "_model_module_version": "1.5.0",
      "_model_name": "SliderStyleModel",
      "_view_count": null,
      "_view_module": "@jupyter-widgets/base",
      "_view_module_version": "1.2.0",
      "_view_name": "StyleView",
      "description_width": "",
      "handle_color": null
     }
    },
    "aec68e599de84a1c89ab304e8255d421": {
     "model_module": "@jupyter-widgets/base",
     "model_module_version": "1.2.0",
     "model_name": "LayoutModel",
     "state": {
      "_model_module": "@jupyter-widgets/base",
      "_model_module_version": "1.2.0",
      "_model_name": "LayoutModel",
      "_view_count": null,
      "_view_module": "@jupyter-widgets/base",
      "_view_module_version": "1.2.0",
      "_view_name": "LayoutView",
      "align_content": null,
      "align_items": null,
      "align_self": null,
      "border": null,
      "bottom": null,
      "display": null,
      "flex": null,
      "flex_flow": null,
      "grid_area": null,
      "grid_auto_columns": null,
      "grid_auto_flow": null,
      "grid_auto_rows": null,
      "grid_column": null,
      "grid_gap": null,
      "grid_row": null,
      "grid_template_areas": null,
      "grid_template_columns": null,
      "grid_template_rows": null,
      "height": null,
      "justify_content": null,
      "justify_items": null,
      "left": null,
      "margin": null,
      "max_height": null,
      "max_width": null,
      "min_height": null,
      "min_width": null,
      "object_fit": null,
      "object_position": null,
      "order": null,
      "overflow": null,
      "overflow_x": null,
      "overflow_y": null,
      "padding": null,
      "right": null,
      "top": null,
      "visibility": null,
      "width": null
     }
    },
    "b319fd5a2508459cb4e03700ee4d456d": {
     "model_module": "@jupyter-widgets/base",
     "model_module_version": "1.2.0",
     "model_name": "LayoutModel",
     "state": {
      "_model_module": "@jupyter-widgets/base",
      "_model_module_version": "1.2.0",
      "_model_name": "LayoutModel",
      "_view_count": null,
      "_view_module": "@jupyter-widgets/base",
      "_view_module_version": "1.2.0",
      "_view_name": "LayoutView",
      "align_content": null,
      "align_items": null,
      "align_self": null,
      "border": null,
      "bottom": null,
      "display": null,
      "flex": null,
      "flex_flow": null,
      "grid_area": null,
      "grid_auto_columns": null,
      "grid_auto_flow": null,
      "grid_auto_rows": null,
      "grid_column": null,
      "grid_gap": null,
      "grid_row": null,
      "grid_template_areas": null,
      "grid_template_columns": null,
      "grid_template_rows": null,
      "height": null,
      "justify_content": null,
      "justify_items": null,
      "left": null,
      "margin": null,
      "max_height": null,
      "max_width": null,
      "min_height": null,
      "min_width": null,
      "object_fit": null,
      "object_position": null,
      "order": null,
      "overflow": null,
      "overflow_x": null,
      "overflow_y": null,
      "padding": null,
      "right": null,
      "top": null,
      "visibility": null,
      "width": null
     }
    },
    "b511f5905beb441182f32007c9928f40": {
     "model_module": "@jupyter-widgets/controls",
     "model_module_version": "1.5.0",
     "model_name": "SliderStyleModel",
     "state": {
      "_model_module": "@jupyter-widgets/controls",
      "_model_module_version": "1.5.0",
      "_model_name": "SliderStyleModel",
      "_view_count": null,
      "_view_module": "@jupyter-widgets/base",
      "_view_module_version": "1.2.0",
      "_view_name": "StyleView",
      "description_width": "",
      "handle_color": null
     }
    },
    "b649953818144bd2b7d2e11e3afb0524": {
     "model_module": "@jupyter-widgets/base",
     "model_module_version": "1.2.0",
     "model_name": "LayoutModel",
     "state": {
      "_model_module": "@jupyter-widgets/base",
      "_model_module_version": "1.2.0",
      "_model_name": "LayoutModel",
      "_view_count": null,
      "_view_module": "@jupyter-widgets/base",
      "_view_module_version": "1.2.0",
      "_view_name": "LayoutView",
      "align_content": null,
      "align_items": null,
      "align_self": null,
      "border": null,
      "bottom": null,
      "display": null,
      "flex": null,
      "flex_flow": null,
      "grid_area": null,
      "grid_auto_columns": null,
      "grid_auto_flow": null,
      "grid_auto_rows": null,
      "grid_column": null,
      "grid_gap": null,
      "grid_row": null,
      "grid_template_areas": null,
      "grid_template_columns": null,
      "grid_template_rows": null,
      "height": null,
      "justify_content": null,
      "justify_items": null,
      "left": null,
      "margin": null,
      "max_height": null,
      "max_width": null,
      "min_height": null,
      "min_width": null,
      "object_fit": null,
      "object_position": null,
      "order": null,
      "overflow": null,
      "overflow_x": null,
      "overflow_y": null,
      "padding": null,
      "right": null,
      "top": null,
      "visibility": null,
      "width": null
     }
    },
    "b9878e0055ec485abda381f3763275fc": {
     "model_module": "@jupyter-widgets/controls",
     "model_module_version": "1.5.0",
     "model_name": "VBoxModel",
     "state": {
      "_dom_classes": [
       "widget-interact"
      ],
      "_model_module": "@jupyter-widgets/controls",
      "_model_module_version": "1.5.0",
      "_model_name": "VBoxModel",
      "_view_count": null,
      "_view_module": "@jupyter-widgets/controls",
      "_view_module_version": "1.5.0",
      "_view_name": "VBoxView",
      "box_style": "",
      "children": [
       "IPY_MODEL_f0f72b85621641558fbef0c87e8d6baf",
       "IPY_MODEL_104b4df42e734b389fdbb62619b87a05"
      ],
      "layout": "IPY_MODEL_9a184b1b5fe0407d937c2744c558edd8"
     }
    },
    "bb78bced2784454aba4e76bc795b6968": {
     "model_module": "@jupyter-widgets/base",
     "model_module_version": "1.2.0",
     "model_name": "LayoutModel",
     "state": {
      "_model_module": "@jupyter-widgets/base",
      "_model_module_version": "1.2.0",
      "_model_name": "LayoutModel",
      "_view_count": null,
      "_view_module": "@jupyter-widgets/base",
      "_view_module_version": "1.2.0",
      "_view_name": "LayoutView",
      "align_content": null,
      "align_items": null,
      "align_self": null,
      "border": null,
      "bottom": null,
      "display": null,
      "flex": null,
      "flex_flow": null,
      "grid_area": null,
      "grid_auto_columns": null,
      "grid_auto_flow": null,
      "grid_auto_rows": null,
      "grid_column": null,
      "grid_gap": null,
      "grid_row": null,
      "grid_template_areas": null,
      "grid_template_columns": null,
      "grid_template_rows": null,
      "height": null,
      "justify_content": null,
      "justify_items": null,
      "left": null,
      "margin": null,
      "max_height": null,
      "max_width": null,
      "min_height": null,
      "min_width": null,
      "object_fit": null,
      "object_position": null,
      "order": null,
      "overflow": null,
      "overflow_x": null,
      "overflow_y": null,
      "padding": null,
      "right": null,
      "top": null,
      "visibility": null,
      "width": null
     }
    },
    "bc7c77663d3f4d27a2a3807bb1e454a2": {
     "model_module": "@jupyter-widgets/output",
     "model_module_version": "1.0.0",
     "model_name": "OutputModel",
     "state": {
      "_dom_classes": [],
      "_model_module": "@jupyter-widgets/output",
      "_model_module_version": "1.0.0",
      "_model_name": "OutputModel",
      "_view_count": null,
      "_view_module": "@jupyter-widgets/output",
      "_view_module_version": "1.0.0",
      "_view_name": "OutputView",
      "layout": "IPY_MODEL_1be4f814cd9a469f81b07a78de9030da",
      "msg_id": "",
      "outputs": [
       {
        "data": {
         "image/jpeg": "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\n",
         "text/html": "\n        <iframe\n            width=\"600\"\n            height=\"278\"\n            src=\"https://www.youtube.com/embed/8cDSOL7-Nrw?rel=0&loop=1\"\n            frameborder=\"0\"\n            allowfullscreen\n            \n        ></iframe>\n        ",
         "text/plain": "<IPython.lib.display.YouTubeVideo at 0x7a697c4bb340>"
        },
        "metadata": {},
        "output_type": "display_data"
       }
      ]
     }
    },
    "c6131811960044158bba41aa8d54d678": {
     "model_module": "@jupyter-widgets/base",
     "model_module_version": "1.2.0",
     "model_name": "LayoutModel",
     "state": {
      "_model_module": "@jupyter-widgets/base",
      "_model_module_version": "1.2.0",
      "_model_name": "LayoutModel",
      "_view_count": null,
      "_view_module": "@jupyter-widgets/base",
      "_view_module_version": "1.2.0",
      "_view_name": "LayoutView",
      "align_content": null,
      "align_items": null,
      "align_self": null,
      "border": null,
      "bottom": null,
      "display": null,
      "flex": null,
      "flex_flow": null,
      "grid_area": null,
      "grid_auto_columns": null,
      "grid_auto_flow": null,
      "grid_auto_rows": null,
      "grid_column": null,
      "grid_gap": null,
      "grid_row": null,
      "grid_template_areas": null,
      "grid_template_columns": null,
      "grid_template_rows": null,
      "height": null,
      "justify_content": null,
      "justify_items": null,
      "left": null,
      "margin": null,
      "max_height": null,
      "max_width": null,
      "min_height": null,
      "min_width": null,
      "object_fit": null,
      "object_position": null,
      "order": null,
      "overflow": null,
      "overflow_x": null,
      "overflow_y": null,
      "padding": null,
      "right": null,
      "top": null,
      "visibility": null,
      "width": null
     }
    },
    "c6179150f2fe406786ab41fdbb5249c2": {
     "model_module": "@jupyter-widgets/base",
     "model_module_version": "1.2.0",
     "model_name": "LayoutModel",
     "state": {
      "_model_module": "@jupyter-widgets/base",
      "_model_module_version": "1.2.0",
      "_model_name": "LayoutModel",
      "_view_count": null,
      "_view_module": "@jupyter-widgets/base",
      "_view_module_version": "1.2.0",
      "_view_name": "LayoutView",
      "align_content": null,
      "align_items": null,
      "align_self": null,
      "border": null,
      "bottom": null,
      "display": null,
      "flex": null,
      "flex_flow": null,
      "grid_area": null,
      "grid_auto_columns": null,
      "grid_auto_flow": null,
      "grid_auto_rows": null,
      "grid_column": null,
      "grid_gap": null,
      "grid_row": null,
      "grid_template_areas": null,
      "grid_template_columns": null,
      "grid_template_rows": null,
      "height": null,
      "justify_content": null,
      "justify_items": null,
      "left": null,
      "margin": null,
      "max_height": null,
      "max_width": null,
      "min_height": null,
      "min_width": null,
      "object_fit": null,
      "object_position": null,
      "order": null,
      "overflow": null,
      "overflow_x": null,
      "overflow_y": null,
      "padding": null,
      "right": null,
      "top": null,
      "visibility": null,
      "width": null
     }
    },
    "c9e3fbb2315e4747aa9bb1c925c74884": {
     "model_module": "@jupyter-widgets/controls",
     "model_module_version": "1.5.0",
     "model_name": "SliderStyleModel",
     "state": {
      "_model_module": "@jupyter-widgets/controls",
      "_model_module_version": "1.5.0",
      "_model_name": "SliderStyleModel",
      "_view_count": null,
      "_view_module": "@jupyter-widgets/base",
      "_view_module_version": "1.2.0",
      "_view_name": "StyleView",
      "description_width": "",
      "handle_color": null
     }
    },
    "d38adf3add2b4db0b91e4d700b3f7726": {
     "model_module": "@jupyter-widgets/controls",
     "model_module_version": "1.5.0",
     "model_name": "IntSliderModel",
     "state": {
      "_dom_classes": [],
      "_model_module": "@jupyter-widgets/controls",
      "_model_module_version": "1.5.0",
      "_model_name": "IntSliderModel",
      "_view_count": null,
      "_view_module": "@jupyter-widgets/controls",
      "_view_module_version": "1.5.0",
      "_view_name": "IntSliderView",
      "continuous_update": false,
      "description": "resize",
      "description_tooltip": null,
      "disabled": false,
      "layout": "IPY_MODEL_8f25580a755d44d9b2a0b99a8bfe0457",
      "max": 1100,
      "min": 300,
      "orientation": "horizontal",
      "readout": false,
      "readout_format": "d",
      "step": 50,
      "style": "IPY_MODEL_c9e3fbb2315e4747aa9bb1c925c74884",
      "value": 600
     }
    },
    "e049a15a20dd4b99be31f16d47f126f3": {
     "model_module": "@jupyter-widgets/base",
     "model_module_version": "1.2.0",
     "model_name": "LayoutModel",
     "state": {
      "_model_module": "@jupyter-widgets/base",
      "_model_module_version": "1.2.0",
      "_model_name": "LayoutModel",
      "_view_count": null,
      "_view_module": "@jupyter-widgets/base",
      "_view_module_version": "1.2.0",
      "_view_name": "LayoutView",
      "align_content": null,
      "align_items": null,
      "align_self": null,
      "border": null,
      "bottom": null,
      "display": null,
      "flex": null,
      "flex_flow": null,
      "grid_area": null,
      "grid_auto_columns": null,
      "grid_auto_flow": null,
      "grid_auto_rows": null,
      "grid_column": null,
      "grid_gap": null,
      "grid_row": null,
      "grid_template_areas": null,
      "grid_template_columns": null,
      "grid_template_rows": null,
      "height": null,
      "justify_content": null,
      "justify_items": null,
      "left": null,
      "margin": null,
      "max_height": null,
      "max_width": null,
      "min_height": null,
      "min_width": null,
      "object_fit": null,
      "object_position": null,
      "order": null,
      "overflow": null,
      "overflow_x": null,
      "overflow_y": null,
      "padding": null,
      "right": null,
      "top": null,
      "visibility": null,
      "width": null
     }
    },
    "e3c5913342834e1ea6b7983a52f084c3": {
     "model_module": "@jupyter-widgets/base",
     "model_module_version": "1.2.0",
     "model_name": "LayoutModel",
     "state": {
      "_model_module": "@jupyter-widgets/base",
      "_model_module_version": "1.2.0",
      "_model_name": "LayoutModel",
      "_view_count": null,
      "_view_module": "@jupyter-widgets/base",
      "_view_module_version": "1.2.0",
      "_view_name": "LayoutView",
      "align_content": null,
      "align_items": null,
      "align_self": null,
      "border": null,
      "bottom": null,
      "display": null,
      "flex": null,
      "flex_flow": null,
      "grid_area": null,
      "grid_auto_columns": null,
      "grid_auto_flow": null,
      "grid_auto_rows": null,
      "grid_column": null,
      "grid_gap": null,
      "grid_row": null,
      "grid_template_areas": null,
      "grid_template_columns": null,
      "grid_template_rows": null,
      "height": null,
      "justify_content": null,
      "justify_items": null,
      "left": null,
      "margin": null,
      "max_height": null,
      "max_width": null,
      "min_height": null,
      "min_width": null,
      "object_fit": null,
      "object_position": null,
      "order": null,
      "overflow": null,
      "overflow_x": null,
      "overflow_y": null,
      "padding": null,
      "right": null,
      "top": null,
      "visibility": null,
      "width": null
     }
    },
    "e9b003add7774fb4918d93eba9d3e1a3": {
     "model_module": "@jupyter-widgets/controls",
     "model_module_version": "1.5.0",
     "model_name": "IntSliderModel",
     "state": {
      "_dom_classes": [],
      "_model_module": "@jupyter-widgets/controls",
      "_model_module_version": "1.5.0",
      "_model_name": "IntSliderModel",
      "_view_count": null,
      "_view_module": "@jupyter-widgets/controls",
      "_view_module_version": "1.5.0",
      "_view_name": "IntSliderView",
      "continuous_update": false,
      "description": "resize",
      "description_tooltip": null,
      "disabled": false,
      "layout": "IPY_MODEL_0bc708f3a4cf4559aa755035751a9464",
      "max": 1100,
      "min": 300,
      "orientation": "horizontal",
      "readout": false,
      "readout_format": "d",
      "step": 50,
      "style": "IPY_MODEL_1fa2d7121a604c259d14964e3eb61147",
      "value": 600
     }
    },
    "eb7d2c9fdc4f4953afb63e60e50b2263": {
     "model_module": "@jupyter-widgets/controls",
     "model_module_version": "1.5.0",
     "model_name": "IntSliderModel",
     "state": {
      "_dom_classes": [],
      "_model_module": "@jupyter-widgets/controls",
      "_model_module_version": "1.5.0",
      "_model_name": "IntSliderModel",
      "_view_count": null,
      "_view_module": "@jupyter-widgets/controls",
      "_view_module_version": "1.5.0",
      "_view_name": "IntSliderView",
      "continuous_update": false,
      "description": "resize",
      "description_tooltip": null,
      "disabled": false,
      "layout": "IPY_MODEL_5f4d68726bae4671a783b2ccbb5bba6f",
      "max": 1100,
      "min": 300,
      "orientation": "horizontal",
      "readout": false,
      "readout_format": "d",
      "step": 50,
      "style": "IPY_MODEL_12334e353cda404fb8f4eff3e5de2b17",
      "value": 600
     }
    },
    "f0f72b85621641558fbef0c87e8d6baf": {
     "model_module": "@jupyter-widgets/controls",
     "model_module_version": "1.5.0",
     "model_name": "IntSliderModel",
     "state": {
      "_dom_classes": [],
      "_model_module": "@jupyter-widgets/controls",
      "_model_module_version": "1.5.0",
      "_model_name": "IntSliderModel",
      "_view_count": null,
      "_view_module": "@jupyter-widgets/controls",
      "_view_module_version": "1.5.0",
      "_view_name": "IntSliderView",
      "continuous_update": false,
      "description": "resize",
      "description_tooltip": null,
      "disabled": false,
      "layout": "IPY_MODEL_41080c5a84c54ce29b4a113ee698cb30",
      "max": 1100,
      "min": 300,
      "orientation": "horizontal",
      "readout": false,
      "readout_format": "d",
      "step": 50,
      "style": "IPY_MODEL_ae66fa430df84743bbd3540be212fa18",
      "value": 600
     }
    },
    "fac685e47d8d4de9a818d1a8bd780ec5": {
     "model_module": "@jupyter-widgets/controls",
     "model_module_version": "1.5.0",
     "model_name": "VBoxModel",
     "state": {
      "_dom_classes": [
       "widget-interact"
      ],
      "_model_module": "@jupyter-widgets/controls",
      "_model_module_version": "1.5.0",
      "_model_name": "VBoxModel",
      "_view_count": null,
      "_view_module": "@jupyter-widgets/controls",
      "_view_module_version": "1.5.0",
      "_view_name": "VBoxView",
      "box_style": "",
      "children": [
       "IPY_MODEL_692f127657774cc28c936fefaec44bf2",
       "IPY_MODEL_59b33a4eced747f58f60fd722a528c9c"
      ],
      "layout": "IPY_MODEL_b319fd5a2508459cb4e03700ee4d456d"
     }
    },
    "fae7edda8f79477da1a5cd80668ab47e": {
     "model_module": "@jupyter-widgets/base",
     "model_module_version": "1.2.0",
     "model_name": "LayoutModel",
     "state": {
      "_model_module": "@jupyter-widgets/base",
      "_model_module_version": "1.2.0",
      "_model_name": "LayoutModel",
      "_view_count": null,
      "_view_module": "@jupyter-widgets/base",
      "_view_module_version": "1.2.0",
      "_view_name": "LayoutView",
      "align_content": null,
      "align_items": null,
      "align_self": null,
      "border": null,
      "bottom": null,
      "display": null,
      "flex": null,
      "flex_flow": null,
      "grid_area": null,
      "grid_auto_columns": null,
      "grid_auto_flow": null,
      "grid_auto_rows": null,
      "grid_column": null,
      "grid_gap": null,
      "grid_row": null,
      "grid_template_areas": null,
      "grid_template_columns": null,
      "grid_template_rows": null,
      "height": null,
      "justify_content": null,
      "justify_items": null,
      "left": null,
      "margin": null,
      "max_height": null,
      "max_width": null,
      "min_height": null,
      "min_width": null,
      "object_fit": null,
      "object_position": null,
      "order": null,
      "overflow": null,
      "overflow_x": null,
      "overflow_y": null,
      "padding": null,
      "right": null,
      "top": null,
      "visibility": null,
      "width": null
     }
    },
    "fd403965538b48249c1172573c36aa5e": {
     "model_module": "@jupyter-widgets/output",
     "model_module_version": "1.0.0",
     "model_name": "OutputModel",
     "state": {
      "_dom_classes": [],
      "_model_module": "@jupyter-widgets/output",
      "_model_module_version": "1.0.0",
      "_model_name": "OutputModel",
      "_view_count": null,
      "_view_module": "@jupyter-widgets/output",
      "_view_module_version": "1.0.0",
      "_view_name": "OutputView",
      "layout": "IPY_MODEL_fae7edda8f79477da1a5cd80668ab47e",
      "msg_id": "",
      "outputs": [
       {
        "data": {
         "image/jpeg": "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\n",
         "text/html": "\n        <iframe\n            width=\"600\"\n            height=\"231\"\n            src=\"https://www.youtube.com/embed/uC7-soGdAR0?rel=0&loop=1\"\n            frameborder=\"0\"\n            allowfullscreen\n            \n        ></iframe>\n        ",
         "text/plain": "<IPython.lib.display.YouTubeVideo at 0x7a696439ceb0>"
        },
        "metadata": {},
        "output_type": "display_data"
       }
      ]
     }
    }
   }
  }
 },
 "nbformat": 4,
 "nbformat_minor": 1
}
